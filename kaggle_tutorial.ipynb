{
 "cells": [
  {
   "cell_type": "markdown",
   "metadata": {},
   "source": [
    "based on [Beginners Tutorial: Analyze guns deaths in the US | Kaggle](https://www.kaggle.com/hakabuk/beginners-tutorial-analyze-guns-deaths-in-the-us)"
   ]
  },
  {
   "cell_type": "markdown",
   "metadata": {
    "_cell_guid": "8258924a-f7e2-f75b-c757-13b1f443dedf",
    "_uuid": "0f6a5470fa2b86125a94f6875dcf9395c1b3451a"
   },
   "source": [
    "# Beginners Tutorial: Analyze guns deaths in the US w/ Python\n",
    "## Analyzation Gun Deaths in the US: 2012-2014"
   ]
  },
  {
   "cell_type": "markdown",
   "metadata": {
    "_cell_guid": "ba141c56-4b81-1c0d-6cf1-eec5db0be7d9",
    "_uuid": "21c807dd5d65c329ea92909b5beaf9c76c640081"
   },
   "source": [
    "This analyzation inspects gun-death in the US in the years 2012-2014. The data originated from the CDC. I came across this thanks to FiveThirtyEight's [Gun Deaths in America][1] project. The data can be found [here][2].\n",
    "\n",
    "  [1]: https://fivethirtyeight.com/features/gun-deaths/\n",
    "  [2]: https://github.com/fivethirtyeight/guns-data\n",
    "\n",
    "This notebook was made for learning purposes. It definitely served its purpuse and I hope others can make use of it. I believe a beginner can learn a lot from it. \n",
    "\n",
    "**If you're here for the visualizations: skip to the \"Visualization\" part. "
   ]
  },
  {
   "cell_type": "markdown",
   "metadata": {
    "_cell_guid": "7513a572-9a5e-bdee-266c-4eb9bdd0d2c9",
    "_uuid": "3c0edac768cfcfe157d3cd24ad1ddfa707076d81"
   },
   "source": [
    "## 1. Importing, cleaning and getting familiar with the data"
   ]
  },
  {
   "cell_type": "code",
   "execution_count": 1,
   "metadata": {
    "_cell_guid": "45cbd274-164d-ef41-d930-038205f557e4",
    "_uuid": "0e109ef2f6055d9edb2f8fdcd541422a3f9bfd74",
    "collapsed": true
   },
   "outputs": [],
   "source": [
    "import pandas as pd\n",
    "import numpy as np\n",
    "import warnings\n",
    "warnings.filterwarnings('ignore')"
   ]
  },
  {
   "cell_type": "code",
   "execution_count": 2,
   "metadata": {
    "_cell_guid": "15e9cb4c-c7c7-c23d-96c0-c984f23a2886",
    "_uuid": "f32de7d4341ea6df08c109cb0c9fcd4320af234b"
   },
   "outputs": [
    {
     "name": "stdout",
     "output_type": "stream",
     "text": [
      "(100798, 10)\n"
     ]
    },
    {
     "data": {
      "text/html": [
       "<div>\n",
       "<style>\n",
       "    .dataframe thead tr:only-child th {\n",
       "        text-align: right;\n",
       "    }\n",
       "\n",
       "    .dataframe thead th {\n",
       "        text-align: left;\n",
       "    }\n",
       "\n",
       "    .dataframe tbody tr th {\n",
       "        vertical-align: top;\n",
       "    }\n",
       "</style>\n",
       "<table border=\"1\" class=\"dataframe\">\n",
       "  <thead>\n",
       "    <tr style=\"text-align: right;\">\n",
       "      <th></th>\n",
       "      <th>year</th>\n",
       "      <th>month</th>\n",
       "      <th>intent</th>\n",
       "      <th>police</th>\n",
       "      <th>sex</th>\n",
       "      <th>age</th>\n",
       "      <th>race</th>\n",
       "      <th>hispanic</th>\n",
       "      <th>place</th>\n",
       "      <th>education</th>\n",
       "    </tr>\n",
       "  </thead>\n",
       "  <tbody>\n",
       "    <tr>\n",
       "      <th>1</th>\n",
       "      <td>2012</td>\n",
       "      <td>1</td>\n",
       "      <td>Suicide</td>\n",
       "      <td>0</td>\n",
       "      <td>M</td>\n",
       "      <td>34.0</td>\n",
       "      <td>Asian/Pacific Islander</td>\n",
       "      <td>100</td>\n",
       "      <td>Home</td>\n",
       "      <td>BA+</td>\n",
       "    </tr>\n",
       "    <tr>\n",
       "      <th>2</th>\n",
       "      <td>2012</td>\n",
       "      <td>1</td>\n",
       "      <td>Suicide</td>\n",
       "      <td>0</td>\n",
       "      <td>F</td>\n",
       "      <td>21.0</td>\n",
       "      <td>White</td>\n",
       "      <td>100</td>\n",
       "      <td>Street</td>\n",
       "      <td>Some college</td>\n",
       "    </tr>\n",
       "    <tr>\n",
       "      <th>3</th>\n",
       "      <td>2012</td>\n",
       "      <td>1</td>\n",
       "      <td>Suicide</td>\n",
       "      <td>0</td>\n",
       "      <td>M</td>\n",
       "      <td>60.0</td>\n",
       "      <td>White</td>\n",
       "      <td>100</td>\n",
       "      <td>Other specified</td>\n",
       "      <td>BA+</td>\n",
       "    </tr>\n",
       "    <tr>\n",
       "      <th>4</th>\n",
       "      <td>2012</td>\n",
       "      <td>2</td>\n",
       "      <td>Suicide</td>\n",
       "      <td>0</td>\n",
       "      <td>M</td>\n",
       "      <td>64.0</td>\n",
       "      <td>White</td>\n",
       "      <td>100</td>\n",
       "      <td>Home</td>\n",
       "      <td>BA+</td>\n",
       "    </tr>\n",
       "    <tr>\n",
       "      <th>5</th>\n",
       "      <td>2012</td>\n",
       "      <td>2</td>\n",
       "      <td>Suicide</td>\n",
       "      <td>0</td>\n",
       "      <td>M</td>\n",
       "      <td>31.0</td>\n",
       "      <td>White</td>\n",
       "      <td>100</td>\n",
       "      <td>Other specified</td>\n",
       "      <td>HS/GED</td>\n",
       "    </tr>\n",
       "  </tbody>\n",
       "</table>\n",
       "</div>"
      ],
      "text/plain": [
       "   year  month   intent  police sex   age                    race  hispanic  \\\n",
       "1  2012      1  Suicide       0   M  34.0  Asian/Pacific Islander       100   \n",
       "2  2012      1  Suicide       0   F  21.0                   White       100   \n",
       "3  2012      1  Suicide       0   M  60.0                   White       100   \n",
       "4  2012      2  Suicide       0   M  64.0                   White       100   \n",
       "5  2012      2  Suicide       0   M  31.0                   White       100   \n",
       "\n",
       "             place     education  \n",
       "1             Home           BA+  \n",
       "2           Street  Some college  \n",
       "3  Other specified           BA+  \n",
       "4             Home           BA+  \n",
       "5  Other specified        HS/GED  "
      ]
     },
     "execution_count": 2,
     "metadata": {},
     "output_type": "execute_result"
    }
   ],
   "source": [
    "guns = pd.read_csv('./full_data.csv', index_col=0)\n",
    "print(guns.shape)\n",
    "guns.head()"
   ]
  },
  {
   "cell_type": "code",
   "execution_count": 3,
   "metadata": {},
   "outputs": [
    {
     "data": {
      "text/plain": [
       "HS/GED          42927\n",
       "Less than HS    21823\n",
       "Some college    21680\n",
       "BA+             12946\n",
       "Name: education, dtype: int64"
      ]
     },
     "execution_count": 3,
     "metadata": {},
     "output_type": "execute_result"
    }
   ],
   "source": [
    "# need to remap Education to 1-5 scale\n",
    "\n",
    "guns.education.value_counts()"
   ]
  },
  {
   "cell_type": "code",
   "execution_count": 4,
   "metadata": {
    "collapsed": true
   },
   "outputs": [],
   "source": [
    "ed_map = {\n",
    "    'Less than HS': 1,\n",
    "    'HS/GED': 2,\n",
    "    'Some college': 3,\n",
    "    'BA+': 4\n",
    "}"
   ]
  },
  {
   "cell_type": "code",
   "execution_count": 5,
   "metadata": {},
   "outputs": [],
   "source": [
    "guns.education = guns.education.apply(lambda s: ed_map.get(s, 5))"
   ]
  },
  {
   "cell_type": "markdown",
   "metadata": {
    "_cell_guid": "b9ec629d-7ab5-928e-5b3f-1b80a85c7ef6",
    "_uuid": "117d03c34cca6488f7e8653bca0b42b74874f2ce"
   },
   "source": [
    "Our data has almost 101,000 rows (gun death incidents) and 10 columns (categories).\n",
    "\n",
    "Here's an explanation of each column:\n",
    "\n",
    "- **' '**: this is an identifier column, which contains the row number. It's common in CSV files to include a unique identifier for each row, but we can ignore it in this analysis.\n",
    "- **year**: the year in which the fatality occurred.\n",
    "- **month**: the month in which the fatality occurred.\n",
    "- **intent**: the intent of the perpetrator of the crime. This can be Suicide, Accidental, NA, Homicide, or Undetermined.\n",
    "- **police**: whether a police officer was involved with the shooting. Either 0 (false) or 1 (true).\n",
    "- **sex**: the gender of the victim. Either M or F.\n",
    "- **age**: the age of the victim.\n",
    "- **race**: the race of the victim. Either Asian/Pacific Islander, Native American/Native Alaskan, Black, Hispanic, or White.\n",
    "- **hispanic**: a code indicating the Hispanic origin of the victim.\n",
    "- **place**: where the shooting occurred. Has several categories, which you're encouraged to explore on your own.\n",
    "- **education**: educational status of the victim. Can be one of the following:\n",
    "    + **1**: Less than High School\n",
    "    + **2**: Graduated from High School or equivalent\n",
    "    + **3**: Some College\n",
    "    + **4**: At least graduated from College\n",
    "    + **5**: Not available\n",
    "\n",
    "It's good practice to get to know our data set before begining to analyze. "
   ]
  },
  {
   "cell_type": "code",
   "execution_count": 6,
   "metadata": {
    "_cell_guid": "a7785cee-02f9-247d-aa17-23062b3c0171",
    "_uuid": "c78852de709c96c295b0c11c905c688f5e105e3a"
   },
   "outputs": [
    {
     "data": {
      "text/html": [
       "<div>\n",
       "<style>\n",
       "    .dataframe thead tr:only-child th {\n",
       "        text-align: right;\n",
       "    }\n",
       "\n",
       "    .dataframe thead th {\n",
       "        text-align: left;\n",
       "    }\n",
       "\n",
       "    .dataframe tbody tr th {\n",
       "        vertical-align: top;\n",
       "    }\n",
       "</style>\n",
       "<table border=\"1\" class=\"dataframe\">\n",
       "  <thead>\n",
       "    <tr style=\"text-align: right;\">\n",
       "      <th></th>\n",
       "      <th>year</th>\n",
       "      <th>month</th>\n",
       "      <th>intent</th>\n",
       "      <th>police</th>\n",
       "      <th>sex</th>\n",
       "      <th>age</th>\n",
       "      <th>race</th>\n",
       "      <th>hispanic</th>\n",
       "      <th>place</th>\n",
       "      <th>education</th>\n",
       "    </tr>\n",
       "    <tr>\n",
       "      <th>Index</th>\n",
       "      <th></th>\n",
       "      <th></th>\n",
       "      <th></th>\n",
       "      <th></th>\n",
       "      <th></th>\n",
       "      <th></th>\n",
       "      <th></th>\n",
       "      <th></th>\n",
       "      <th></th>\n",
       "      <th></th>\n",
       "    </tr>\n",
       "  </thead>\n",
       "  <tbody>\n",
       "    <tr>\n",
       "      <th>1</th>\n",
       "      <td>2012</td>\n",
       "      <td>1</td>\n",
       "      <td>Suicide</td>\n",
       "      <td>0</td>\n",
       "      <td>M</td>\n",
       "      <td>34.0</td>\n",
       "      <td>Asian/Pacific Islander</td>\n",
       "      <td>100</td>\n",
       "      <td>Home</td>\n",
       "      <td>4</td>\n",
       "    </tr>\n",
       "    <tr>\n",
       "      <th>2</th>\n",
       "      <td>2012</td>\n",
       "      <td>1</td>\n",
       "      <td>Suicide</td>\n",
       "      <td>0</td>\n",
       "      <td>F</td>\n",
       "      <td>21.0</td>\n",
       "      <td>White</td>\n",
       "      <td>100</td>\n",
       "      <td>Street</td>\n",
       "      <td>3</td>\n",
       "    </tr>\n",
       "    <tr>\n",
       "      <th>3</th>\n",
       "      <td>2012</td>\n",
       "      <td>1</td>\n",
       "      <td>Suicide</td>\n",
       "      <td>0</td>\n",
       "      <td>M</td>\n",
       "      <td>60.0</td>\n",
       "      <td>White</td>\n",
       "      <td>100</td>\n",
       "      <td>Other specified</td>\n",
       "      <td>4</td>\n",
       "    </tr>\n",
       "    <tr>\n",
       "      <th>4</th>\n",
       "      <td>2012</td>\n",
       "      <td>2</td>\n",
       "      <td>Suicide</td>\n",
       "      <td>0</td>\n",
       "      <td>M</td>\n",
       "      <td>64.0</td>\n",
       "      <td>White</td>\n",
       "      <td>100</td>\n",
       "      <td>Home</td>\n",
       "      <td>4</td>\n",
       "    </tr>\n",
       "    <tr>\n",
       "      <th>5</th>\n",
       "      <td>2012</td>\n",
       "      <td>2</td>\n",
       "      <td>Suicide</td>\n",
       "      <td>0</td>\n",
       "      <td>M</td>\n",
       "      <td>31.0</td>\n",
       "      <td>White</td>\n",
       "      <td>100</td>\n",
       "      <td>Other specified</td>\n",
       "      <td>2</td>\n",
       "    </tr>\n",
       "  </tbody>\n",
       "</table>\n",
       "</div>"
      ],
      "text/plain": [
       "       year  month   intent  police sex   age                    race  \\\n",
       "Index                                                                   \n",
       "1      2012      1  Suicide       0   M  34.0  Asian/Pacific Islander   \n",
       "2      2012      1  Suicide       0   F  21.0                   White   \n",
       "3      2012      1  Suicide       0   M  60.0                   White   \n",
       "4      2012      2  Suicide       0   M  64.0                   White   \n",
       "5      2012      2  Suicide       0   M  31.0                   White   \n",
       "\n",
       "       hispanic            place  education  \n",
       "Index                                        \n",
       "1           100             Home          4  \n",
       "2           100           Street          3  \n",
       "3           100  Other specified          4  \n",
       "4           100             Home          4  \n",
       "5           100  Other specified          2  "
      ]
     },
     "execution_count": 6,
     "metadata": {},
     "output_type": "execute_result"
    }
   ],
   "source": [
    "guns.index.name = 'Index'\n",
    "guns.head()"
   ]
  },
  {
   "cell_type": "code",
   "execution_count": 7,
   "metadata": {
    "_cell_guid": "79907cdc-a192-fb8f-1a08-34c5be6bd6bf",
    "_uuid": "fabf81d3f45eed98ebaff6fc5c056d4b73c2fb46"
   },
   "outputs": [
    {
     "data": {
      "text/plain": [
       "Index(['Year', 'Month', 'Intent', 'Police', 'Sex', 'Age', 'Race', 'Hispanic',\n",
       "       'Place', 'Education'],\n",
       "      dtype='object')"
      ]
     },
     "execution_count": 7,
     "metadata": {},
     "output_type": "execute_result"
    }
   ],
   "source": [
    "# for readability and concistency - capitalizing column names\n",
    "guns.columns = map(str.capitalize, guns.columns)\n",
    "guns.columns"
   ]
  },
  {
   "cell_type": "code",
   "execution_count": 8,
   "metadata": {
    "_cell_guid": "056d18b2-4217-7f85-b679-b6dc983e74f6",
    "_uuid": "458578ab21505fba74336a052f3b2ebbea669e57"
   },
   "outputs": [
    {
     "data": {
      "text/plain": [
       "Year           int64\n",
       "Month          int64\n",
       "Intent        object\n",
       "Police         int64\n",
       "Sex           object\n",
       "Age          float64\n",
       "Race          object\n",
       "Hispanic       int64\n",
       "Place         object\n",
       "Education      int64\n",
       "dtype: object"
      ]
     },
     "execution_count": 8,
     "metadata": {},
     "output_type": "execute_result"
    }
   ],
   "source": [
    "guns.dtypes"
   ]
  },
  {
   "cell_type": "markdown",
   "metadata": {
    "_cell_guid": "38d3e797-32b8-9532-cda8-aca8ecb310c5",
    "_uuid": "e7bcf7441903f8d1062119a4bc913105dacf6cf3"
   },
   "source": [
    "The float values in the education column could indicate there are NaN valuse, since every category is a whole number [1,2,3,4,5].\n",
    "\n",
    "**Incompeteness/ Completeness**: checking to see how much of the data is NaN is important in order to know if the column is usefull/ useless."
   ]
  },
  {
   "cell_type": "code",
   "execution_count": 9,
   "metadata": {
    "_cell_guid": "b47bf8fb-1c5f-b818-eda0-a5a2dc56b49a",
    "_uuid": "4554b8b14e2e8ddd98c57a8e06f69281bb9802b0"
   },
   "outputs": [
    {
     "data": {
      "text/plain": [
       "Year         100798\n",
       "Month        100798\n",
       "Intent       100797\n",
       "Police       100798\n",
       "Sex          100798\n",
       "Age          100780\n",
       "Race         100798\n",
       "Hispanic     100798\n",
       "Place         99414\n",
       "Education    100798\n",
       "dtype: int64"
      ]
     },
     "execution_count": 9,
     "metadata": {},
     "output_type": "execute_result"
    }
   ],
   "source": [
    "guns.notnull().sum()"
   ]
  },
  {
   "cell_type": "code",
   "execution_count": 10,
   "metadata": {
    "_cell_guid": "97150759-5979-27ab-b600-2356fc9cc299",
    "_uuid": "1a6cd4ced834c0bfbfc04ffe22861ae1f5c18c84"
   },
   "outputs": [
    {
     "data": {
      "text/plain": [
       "Year         100.000000\n",
       "Month        100.000000\n",
       "Intent        99.999008\n",
       "Police       100.000000\n",
       "Sex          100.000000\n",
       "Age           99.982143\n",
       "Race         100.000000\n",
       "Hispanic     100.000000\n",
       "Place         98.626957\n",
       "Education    100.000000\n",
       "dtype: float64"
      ]
     },
     "execution_count": 10,
     "metadata": {},
     "output_type": "execute_result"
    }
   ],
   "source": [
    "# In order to see the percentage of valid data:\n",
    "guns.notnull().sum() * 100.0/guns.shape[0]"
   ]
  },
  {
   "cell_type": "markdown",
   "metadata": {
    "_cell_guid": "18c378cf-6905-7414-4b58-63f8252ca710",
    "_uuid": "848d6546e5466e57e2d31957620dbe83cfa365de"
   },
   "source": [
    "It seems that most of the columns have a at least 98.6% of the values - which means the data is close to complete (unlike real world data). That means we could probably delete all rows with NaN values and still not loose that much of our potential insights.\n",
    "\n",
    "Let's try to substitute as many NaN's as we can with real value, and then delete the rows we couldn't fill."
   ]
  },
  {
   "cell_type": "code",
   "execution_count": 11,
   "metadata": {
    "_cell_guid": "6b614b40-4714-22c2-dace-c4fba06665a4",
    "_uuid": "e6ee281213a72c209dab418f1b20ff68bfba617f"
   },
   "outputs": [
    {
     "data": {
      "text/html": [
       "<div>\n",
       "<style>\n",
       "    .dataframe thead tr:only-child th {\n",
       "        text-align: right;\n",
       "    }\n",
       "\n",
       "    .dataframe thead th {\n",
       "        text-align: left;\n",
       "    }\n",
       "\n",
       "    .dataframe tbody tr th {\n",
       "        vertical-align: top;\n",
       "    }\n",
       "</style>\n",
       "<table border=\"1\" class=\"dataframe\">\n",
       "  <thead>\n",
       "    <tr style=\"text-align: right;\">\n",
       "      <th></th>\n",
       "      <th>Year</th>\n",
       "      <th>Month</th>\n",
       "      <th>Intent</th>\n",
       "      <th>Police</th>\n",
       "      <th>Sex</th>\n",
       "      <th>Age</th>\n",
       "      <th>Race</th>\n",
       "      <th>Hispanic</th>\n",
       "      <th>Place</th>\n",
       "      <th>Education</th>\n",
       "    </tr>\n",
       "    <tr>\n",
       "      <th>Index</th>\n",
       "      <th></th>\n",
       "      <th></th>\n",
       "      <th></th>\n",
       "      <th></th>\n",
       "      <th></th>\n",
       "      <th></th>\n",
       "      <th></th>\n",
       "      <th></th>\n",
       "      <th></th>\n",
       "      <th></th>\n",
       "    </tr>\n",
       "  </thead>\n",
       "  <tbody>\n",
       "    <tr>\n",
       "      <th>1</th>\n",
       "      <td>2012</td>\n",
       "      <td>1</td>\n",
       "      <td>Suicide</td>\n",
       "      <td>0</td>\n",
       "      <td>M</td>\n",
       "      <td>34.0</td>\n",
       "      <td>Asian/Pacific Islander</td>\n",
       "      <td>100</td>\n",
       "      <td>Home</td>\n",
       "      <td>4</td>\n",
       "    </tr>\n",
       "    <tr>\n",
       "      <th>2</th>\n",
       "      <td>2012</td>\n",
       "      <td>1</td>\n",
       "      <td>Suicide</td>\n",
       "      <td>0</td>\n",
       "      <td>F</td>\n",
       "      <td>21.0</td>\n",
       "      <td>White</td>\n",
       "      <td>100</td>\n",
       "      <td>Street</td>\n",
       "      <td>3</td>\n",
       "    </tr>\n",
       "    <tr>\n",
       "      <th>3</th>\n",
       "      <td>2012</td>\n",
       "      <td>1</td>\n",
       "      <td>Suicide</td>\n",
       "      <td>0</td>\n",
       "      <td>M</td>\n",
       "      <td>60.0</td>\n",
       "      <td>White</td>\n",
       "      <td>100</td>\n",
       "      <td>Other specified</td>\n",
       "      <td>4</td>\n",
       "    </tr>\n",
       "    <tr>\n",
       "      <th>12</th>\n",
       "      <td>2012</td>\n",
       "      <td>1</td>\n",
       "      <td>Suicide</td>\n",
       "      <td>0</td>\n",
       "      <td>M</td>\n",
       "      <td>21.0</td>\n",
       "      <td>Native American/Native Alaskan</td>\n",
       "      <td>100</td>\n",
       "      <td>Home</td>\n",
       "      <td>2</td>\n",
       "    </tr>\n",
       "    <tr>\n",
       "      <th>135</th>\n",
       "      <td>2012</td>\n",
       "      <td>1</td>\n",
       "      <td>Suicide</td>\n",
       "      <td>0</td>\n",
       "      <td>F</td>\n",
       "      <td>59.0</td>\n",
       "      <td>White</td>\n",
       "      <td>100</td>\n",
       "      <td>Home</td>\n",
       "      <td>2</td>\n",
       "    </tr>\n",
       "    <tr>\n",
       "      <th>136</th>\n",
       "      <td>2012</td>\n",
       "      <td>1</td>\n",
       "      <td>Suicide</td>\n",
       "      <td>0</td>\n",
       "      <td>F</td>\n",
       "      <td>30.0</td>\n",
       "      <td>White</td>\n",
       "      <td>100</td>\n",
       "      <td>Other unspecified</td>\n",
       "      <td>4</td>\n",
       "    </tr>\n",
       "    <tr>\n",
       "      <th>137</th>\n",
       "      <td>2012</td>\n",
       "      <td>1</td>\n",
       "      <td>Homicide</td>\n",
       "      <td>0</td>\n",
       "      <td>M</td>\n",
       "      <td>58.0</td>\n",
       "      <td>Black</td>\n",
       "      <td>100</td>\n",
       "      <td>Home</td>\n",
       "      <td>1</td>\n",
       "    </tr>\n",
       "    <tr>\n",
       "      <th>138</th>\n",
       "      <td>2012</td>\n",
       "      <td>1</td>\n",
       "      <td>Suicide</td>\n",
       "      <td>0</td>\n",
       "      <td>M</td>\n",
       "      <td>78.0</td>\n",
       "      <td>White</td>\n",
       "      <td>100</td>\n",
       "      <td>Home</td>\n",
       "      <td>4</td>\n",
       "    </tr>\n",
       "    <tr>\n",
       "      <th>139</th>\n",
       "      <td>2012</td>\n",
       "      <td>1</td>\n",
       "      <td>Suicide</td>\n",
       "      <td>0</td>\n",
       "      <td>M</td>\n",
       "      <td>60.0</td>\n",
       "      <td>White</td>\n",
       "      <td>100</td>\n",
       "      <td>Other unspecified</td>\n",
       "      <td>1</td>\n",
       "    </tr>\n",
       "    <tr>\n",
       "      <th>140</th>\n",
       "      <td>2012</td>\n",
       "      <td>1</td>\n",
       "      <td>Accidental</td>\n",
       "      <td>0</td>\n",
       "      <td>M</td>\n",
       "      <td>61.0</td>\n",
       "      <td>White</td>\n",
       "      <td>100</td>\n",
       "      <td>Home</td>\n",
       "      <td>2</td>\n",
       "    </tr>\n",
       "  </tbody>\n",
       "</table>\n",
       "</div>"
      ],
      "text/plain": [
       "       Year  Month      Intent  Police Sex   Age  \\\n",
       "Index                                              \n",
       "1      2012      1     Suicide       0   M  34.0   \n",
       "2      2012      1     Suicide       0   F  21.0   \n",
       "3      2012      1     Suicide       0   M  60.0   \n",
       "12     2012      1     Suicide       0   M  21.0   \n",
       "135    2012      1     Suicide       0   F  59.0   \n",
       "136    2012      1     Suicide       0   F  30.0   \n",
       "137    2012      1    Homicide       0   M  58.0   \n",
       "138    2012      1     Suicide       0   M  78.0   \n",
       "139    2012      1     Suicide       0   M  60.0   \n",
       "140    2012      1  Accidental       0   M  61.0   \n",
       "\n",
       "                                 Race  Hispanic              Place  Education  \n",
       "Index                                                                          \n",
       "1              Asian/Pacific Islander       100               Home          4  \n",
       "2                               White       100             Street          3  \n",
       "3                               White       100    Other specified          4  \n",
       "12     Native American/Native Alaskan       100               Home          2  \n",
       "135                             White       100               Home          2  \n",
       "136                             White       100  Other unspecified          4  \n",
       "137                             Black       100               Home          1  \n",
       "138                             White       100               Home          4  \n",
       "139                             White       100  Other unspecified          1  \n",
       "140                             White       100               Home          2  "
      ]
     },
     "execution_count": 11,
     "metadata": {},
     "output_type": "execute_result"
    }
   ],
   "source": [
    "# Organizing the data by a column value: first by the year, then by month:\n",
    "guns.sort_values(['Year', 'Month'], inplace=True)\n",
    "guns.head(10)"
   ]
  },
  {
   "cell_type": "markdown",
   "metadata": {
    "_cell_guid": "d275ba59-ffe8-57d7-b0f5-237247bed1d7",
    "_uuid": "39bc87ba5b007800bbda4c0c6b19a2374f6be639"
   },
   "source": [
    "For me, the most interesting column is 'Intent'. This is what I would want to predict."
   ]
  },
  {
   "cell_type": "markdown",
   "metadata": {
    "_cell_guid": "449669d7-160f-312a-efc6-aefa67a1d09f",
    "_uuid": "3fde16eeb8a4e880c9b3eb4cc4486297205df618"
   },
   "source": [
    "## 2. Exploring and analyzing the data"
   ]
  },
  {
   "cell_type": "code",
   "execution_count": 12,
   "metadata": {
    "_cell_guid": "fdc91553-e2b2-cacb-16f4-130fc746131f",
    "_uuid": "84743177b2dc1ed33503ce87de6c023fe0154425"
   },
   "outputs": [
    {
     "data": {
      "text/plain": [
       "Suicide         63175\n",
       "Homicide        35176\n",
       "Accidental       1639\n",
       "Undetermined      807\n",
       "Name: Intent, dtype: int64"
      ]
     },
     "execution_count": 12,
     "metadata": {},
     "output_type": "execute_result"
    }
   ],
   "source": [
    "guns.Intent.value_counts(ascending=False)"
   ]
  },
  {
   "cell_type": "code",
   "execution_count": 13,
   "metadata": {
    "_cell_guid": "2690fc53-fc3d-d7a1-bc49-3f26011a000d",
    "_uuid": "84f3245910fb57783c0f7d608139ccbb6fc1004e"
   },
   "outputs": [
    {
     "data": {
      "text/plain": [
       "Suicide         0.626749\n",
       "Homicide        0.348975\n",
       "Accidental      0.016260\n",
       "Undetermined    0.008006\n",
       "NaN             0.000010\n",
       "Name: Intent, dtype: float64"
      ]
     },
     "execution_count": 13,
     "metadata": {},
     "output_type": "execute_result"
    }
   ],
   "source": [
    "# Looking at the normalized values makes the picture clearer.\n",
    "# Note: 'normalize=False' excludes the 'NaN's where here it includes them\n",
    "guns.Intent.value_counts(ascending=False, dropna=False, normalize=True)"
   ]
  },
  {
   "cell_type": "markdown",
   "metadata": {
    "_cell_guid": "96559359-32b6-bbf0-9185-c2511d817aad",
    "_uuid": "19961551abc81c92157e3b5e5b9e29ff23d9aeea"
   },
   "source": [
    "It is interesting that while suicide does not sound like the most common gun death in the US, it amounted to almost 2/3 of the gun deaths in 2012-2014. Yet the media tend to give more coverage to homicides.\n",
    "Off topic: If this interest you, I recommend listening to The suicide paradox on the amazing podcast Freakonomics.\n",
    "The describe() method can give us an overview of numerical columns. Since most columns are categorical, we can use it on the 'age' and 'education' columns."
   ]
  },
  {
   "cell_type": "code",
   "execution_count": 14,
   "metadata": {
    "_cell_guid": "2c584327-1394-4f25-7d1b-778c14f8dba1",
    "_uuid": "7d28cb748b0a6d0d4ae04d681c832522c695c565"
   },
   "outputs": [
    {
     "name": "stdout",
     "output_type": "stream",
     "text": [
      "Education:\n",
      "count    100798.000000\n",
      "mean          2.297774\n",
      "std           0.991783\n",
      "min           1.000000\n",
      "25%           2.000000\n",
      "50%           2.000000\n",
      "75%           3.000000\n",
      "max           5.000000\n",
      "Name: Education, dtype: float64\n",
      "--------------------\n",
      "\n",
      "Age:\n",
      "count    100780.000000\n",
      "mean         43.857601\n",
      "std          19.496181\n",
      "min           0.000000\n",
      "25%          27.000000\n",
      "50%          42.000000\n",
      "75%          58.000000\n",
      "max         107.000000\n",
      "Name: Age, dtype: float64\n",
      "--------------------\n",
      "\n"
     ]
    }
   ],
   "source": [
    "cols = ['Education', 'Age']\n",
    "for col in cols:\n",
    "    print(col + ':')\n",
    "    print(guns[col].describe())\n",
    "    print('-' * 20 + '\\n')"
   ]
  },
  {
   "cell_type": "code",
   "execution_count": 15,
   "metadata": {
    "_cell_guid": "9c62e6ee-9d28-35f6-f9cd-8086d0e949fa",
    "_uuid": "4dbdfb15b2643fd4d9a994bedf283194b2015d6e"
   },
   "outputs": [
    {
     "name": "stdout",
     "output_type": "stream",
     "text": [
      "Education:\n",
      "count    100798.000000\n",
      "mean          2.297774\n",
      "std           0.991783\n",
      "min           1.000000\n",
      "10%           1.000000\n",
      "20%           1.000000\n",
      "30.0%         2.000000\n",
      "40%           2.000000\n",
      "50%           2.000000\n",
      "60%           2.000000\n",
      "70%           3.000000\n",
      "80%           3.000000\n",
      "90%           4.000000\n",
      "100%          5.000000\n",
      "max           5.000000\n",
      "Name: Education, dtype: float64\n",
      "--------------------\n",
      "\n",
      "Age:\n",
      "count    100780.000000\n",
      "mean         43.857601\n",
      "std          19.496181\n",
      "min           0.000000\n",
      "10%          21.000000\n",
      "20%          25.000000\n",
      "30.0%        29.000000\n",
      "40%          35.000000\n",
      "50%          42.000000\n",
      "60%          49.000000\n",
      "70%          55.000000\n",
      "80%          61.000000\n",
      "90%          72.000000\n",
      "100%        107.000000\n",
      "max         107.000000\n",
      "Name: Age, dtype: float64\n",
      "--------------------\n",
      "\n"
     ]
    }
   ],
   "source": [
    "percentiles = np.arange(0.1,1.1,0.1)\n",
    "for col in cols:\n",
    "    print(col + ':')\n",
    "    print(guns[col][guns[col].notnull()].describe(percentiles=percentiles))\n",
    "    print('-' * 20 + '\\n')"
   ]
  },
  {
   "cell_type": "markdown",
   "metadata": {
    "_cell_guid": "5ad02e49-179a-998b-b6da-1c8caea5e205",
    "_uuid": "6293fb975a8ad6d3aec3dc3b48b9cf88652e5eaa"
   },
   "source": [
    "Cleaning 'Education' column: Notice that the minimum age is 0. Let's check how many of the gun incidents resulted in the deaths of children under the age of 16:"
   ]
  },
  {
   "cell_type": "code",
   "execution_count": 16,
   "metadata": {
    "_cell_guid": "4d7b9b1f-4ac3-f93e-4c7a-bb75cf5f7511",
    "_uuid": "2a8ff5648d08f1e416d1c20fab2524a5f91dcdbb"
   },
   "outputs": [
    {
     "data": {
      "text/plain": [
       "(1841, 10)"
      ]
     },
     "execution_count": 16,
     "metadata": {},
     "output_type": "execute_result"
    }
   ],
   "source": [
    "guns[guns['Age'] < 16].shape"
   ]
  },
  {
   "cell_type": "code",
   "execution_count": 17,
   "metadata": {
    "_cell_guid": "f130fe0d-65ba-e012-6dc4-90e48263a5ff",
    "_uuid": "8f432d166b791f7627f306956bb50d23e7b139e6"
   },
   "outputs": [
    {
     "data": {
      "text/html": [
       "<div>\n",
       "<style>\n",
       "    .dataframe thead tr:only-child th {\n",
       "        text-align: right;\n",
       "    }\n",
       "\n",
       "    .dataframe thead th {\n",
       "        text-align: left;\n",
       "    }\n",
       "\n",
       "    .dataframe tbody tr th {\n",
       "        vertical-align: top;\n",
       "    }\n",
       "</style>\n",
       "<table border=\"1\" class=\"dataframe\">\n",
       "  <thead>\n",
       "    <tr style=\"text-align: right;\">\n",
       "      <th></th>\n",
       "      <th>Year</th>\n",
       "      <th>Month</th>\n",
       "      <th>Intent</th>\n",
       "      <th>Police</th>\n",
       "      <th>Sex</th>\n",
       "      <th>Age</th>\n",
       "      <th>Race</th>\n",
       "      <th>Hispanic</th>\n",
       "      <th>Place</th>\n",
       "      <th>Education</th>\n",
       "    </tr>\n",
       "    <tr>\n",
       "      <th>Index</th>\n",
       "      <th></th>\n",
       "      <th></th>\n",
       "      <th></th>\n",
       "      <th></th>\n",
       "      <th></th>\n",
       "      <th></th>\n",
       "      <th></th>\n",
       "      <th></th>\n",
       "      <th></th>\n",
       "      <th></th>\n",
       "    </tr>\n",
       "  </thead>\n",
       "  <tbody>\n",
       "    <tr>\n",
       "      <th>1012</th>\n",
       "      <td>2012</td>\n",
       "      <td>1</td>\n",
       "      <td>Suicide</td>\n",
       "      <td>0</td>\n",
       "      <td>M</td>\n",
       "      <td>15.0</td>\n",
       "      <td>White</td>\n",
       "      <td>100</td>\n",
       "      <td>Home</td>\n",
       "      <td>1</td>\n",
       "    </tr>\n",
       "    <tr>\n",
       "      <th>2423</th>\n",
       "      <td>2012</td>\n",
       "      <td>1</td>\n",
       "      <td>Homicide</td>\n",
       "      <td>0</td>\n",
       "      <td>M</td>\n",
       "      <td>14.0</td>\n",
       "      <td>Black</td>\n",
       "      <td>100</td>\n",
       "      <td>Home</td>\n",
       "      <td>1</td>\n",
       "    </tr>\n",
       "    <tr>\n",
       "      <th>2492</th>\n",
       "      <td>2012</td>\n",
       "      <td>1</td>\n",
       "      <td>Homicide</td>\n",
       "      <td>0</td>\n",
       "      <td>F</td>\n",
       "      <td>1.0</td>\n",
       "      <td>Hispanic</td>\n",
       "      <td>210</td>\n",
       "      <td>Home</td>\n",
       "      <td>1</td>\n",
       "    </tr>\n",
       "    <tr>\n",
       "      <th>2493</th>\n",
       "      <td>2012</td>\n",
       "      <td>1</td>\n",
       "      <td>Homicide</td>\n",
       "      <td>0</td>\n",
       "      <td>M</td>\n",
       "      <td>3.0</td>\n",
       "      <td>Hispanic</td>\n",
       "      <td>210</td>\n",
       "      <td>Home</td>\n",
       "      <td>1</td>\n",
       "    </tr>\n",
       "    <tr>\n",
       "      <th>2589</th>\n",
       "      <td>2012</td>\n",
       "      <td>1</td>\n",
       "      <td>Homicide</td>\n",
       "      <td>0</td>\n",
       "      <td>M</td>\n",
       "      <td>2.0</td>\n",
       "      <td>Hispanic</td>\n",
       "      <td>210</td>\n",
       "      <td>Home</td>\n",
       "      <td>1</td>\n",
       "    </tr>\n",
       "  </tbody>\n",
       "</table>\n",
       "</div>"
      ],
      "text/plain": [
       "       Year  Month    Intent  Police Sex   Age      Race  Hispanic Place  \\\n",
       "Index                                                                      \n",
       "1012   2012      1   Suicide       0   M  15.0     White       100  Home   \n",
       "2423   2012      1  Homicide       0   M  14.0     Black       100  Home   \n",
       "2492   2012      1  Homicide       0   F   1.0  Hispanic       210  Home   \n",
       "2493   2012      1  Homicide       0   M   3.0  Hispanic       210  Home   \n",
       "2589   2012      1  Homicide       0   M   2.0  Hispanic       210  Home   \n",
       "\n",
       "       Education  \n",
       "Index             \n",
       "1012           1  \n",
       "2423           1  \n",
       "2492           1  \n",
       "2493           1  \n",
       "2589           1  "
      ]
     },
     "execution_count": 17,
     "metadata": {},
     "output_type": "execute_result"
    }
   ],
   "source": [
    "# We can see more info if we filter only those cases:\n",
    "guns[guns['Age'] < 16].head()"
   ]
  },
  {
   "cell_type": "markdown",
   "metadata": {
    "_cell_guid": "d3dd0e83-3c2b-3216-e61a-c134c69e7ab3",
    "_uuid": "8be6b2819658d8d348f7a7be8c793a1c9c219d78"
   },
   "source": [
    "Converting NaN values in 'education' column: Since we have only 11 entries with NaN, we could just throw them away, but for practice - let's try to fill in real data in its place. Note, that if it was a larger proportion (say >5%) and you were using for Machine Learning you might want to figure out a way to fill in the information in some manner.\n",
    "Notice that in the education columns - a lot of these children have 'NaN' or the value 5.0 (= Not available). Let's assume all the children under 16 had education 1.0 (= Less than high school), and fill in this data accordingly:"
   ]
  },
  {
   "cell_type": "code",
   "execution_count": 18,
   "metadata": {
    "_cell_guid": "461083d7-02c8-6c08-02a6-549266bc260d",
    "_uuid": "322a868ab503800090817f4b81bca87e49757a7b"
   },
   "outputs": [
    {
     "data": {
      "text/html": [
       "<div>\n",
       "<style>\n",
       "    .dataframe thead tr:only-child th {\n",
       "        text-align: right;\n",
       "    }\n",
       "\n",
       "    .dataframe thead th {\n",
       "        text-align: left;\n",
       "    }\n",
       "\n",
       "    .dataframe tbody tr th {\n",
       "        vertical-align: top;\n",
       "    }\n",
       "</style>\n",
       "<table border=\"1\" class=\"dataframe\">\n",
       "  <thead>\n",
       "    <tr style=\"text-align: right;\">\n",
       "      <th></th>\n",
       "      <th>Year</th>\n",
       "      <th>Month</th>\n",
       "      <th>Intent</th>\n",
       "      <th>Police</th>\n",
       "      <th>Sex</th>\n",
       "      <th>Age</th>\n",
       "      <th>Race</th>\n",
       "      <th>Hispanic</th>\n",
       "      <th>Place</th>\n",
       "      <th>Education</th>\n",
       "    </tr>\n",
       "    <tr>\n",
       "      <th>Index</th>\n",
       "      <th></th>\n",
       "      <th></th>\n",
       "      <th></th>\n",
       "      <th></th>\n",
       "      <th></th>\n",
       "      <th></th>\n",
       "      <th></th>\n",
       "      <th></th>\n",
       "      <th></th>\n",
       "      <th></th>\n",
       "    </tr>\n",
       "  </thead>\n",
       "  <tbody>\n",
       "    <tr>\n",
       "      <th>13751</th>\n",
       "      <td>2012</td>\n",
       "      <td>2</td>\n",
       "      <td>Accidental</td>\n",
       "      <td>0</td>\n",
       "      <td>M</td>\n",
       "      <td>4.0</td>\n",
       "      <td>Black</td>\n",
       "      <td>100</td>\n",
       "      <td>Home</td>\n",
       "      <td>5</td>\n",
       "    </tr>\n",
       "    <tr>\n",
       "      <th>22146</th>\n",
       "      <td>2012</td>\n",
       "      <td>2</td>\n",
       "      <td>Homicide</td>\n",
       "      <td>0</td>\n",
       "      <td>F</td>\n",
       "      <td>1.0</td>\n",
       "      <td>Black</td>\n",
       "      <td>100</td>\n",
       "      <td>Trade/service area</td>\n",
       "      <td>5</td>\n",
       "    </tr>\n",
       "    <tr>\n",
       "      <th>1626</th>\n",
       "      <td>2012</td>\n",
       "      <td>3</td>\n",
       "      <td>Homicide</td>\n",
       "      <td>0</td>\n",
       "      <td>M</td>\n",
       "      <td>0.0</td>\n",
       "      <td>Hispanic</td>\n",
       "      <td>210</td>\n",
       "      <td>Home</td>\n",
       "      <td>5</td>\n",
       "    </tr>\n",
       "    <tr>\n",
       "      <th>1627</th>\n",
       "      <td>2012</td>\n",
       "      <td>3</td>\n",
       "      <td>Homicide</td>\n",
       "      <td>0</td>\n",
       "      <td>M</td>\n",
       "      <td>3.0</td>\n",
       "      <td>Hispanic</td>\n",
       "      <td>210</td>\n",
       "      <td>Home</td>\n",
       "      <td>5</td>\n",
       "    </tr>\n",
       "    <tr>\n",
       "      <th>13968</th>\n",
       "      <td>2012</td>\n",
       "      <td>3</td>\n",
       "      <td>Homicide</td>\n",
       "      <td>0</td>\n",
       "      <td>M</td>\n",
       "      <td>2.0</td>\n",
       "      <td>Black</td>\n",
       "      <td>100</td>\n",
       "      <td>Other unspecified</td>\n",
       "      <td>5</td>\n",
       "    </tr>\n",
       "  </tbody>\n",
       "</table>\n",
       "</div>"
      ],
      "text/plain": [
       "       Year  Month      Intent  Police Sex  Age      Race  Hispanic  \\\n",
       "Index                                                                 \n",
       "13751  2012      2  Accidental       0   M  4.0     Black       100   \n",
       "22146  2012      2    Homicide       0   F  1.0     Black       100   \n",
       "1626   2012      3    Homicide       0   M  0.0  Hispanic       210   \n",
       "1627   2012      3    Homicide       0   M  3.0  Hispanic       210   \n",
       "13968  2012      3    Homicide       0   M  2.0     Black       100   \n",
       "\n",
       "                    Place  Education  \n",
       "Index                                 \n",
       "13751                Home          5  \n",
       "22146  Trade/service area          5  \n",
       "1626                 Home          5  \n",
       "1627                 Home          5  \n",
       "13968   Other unspecified          5  "
      ]
     },
     "execution_count": 18,
     "metadata": {},
     "output_type": "execute_result"
    }
   ],
   "source": [
    "guns[(guns['Age'] < 16) & ((guns['Education'].isnull()) | (guns['Education'] == 5.0))].head()"
   ]
  },
  {
   "cell_type": "code",
   "execution_count": 19,
   "metadata": {
    "_cell_guid": "affb3fe6-8ffb-0d75-e706-7eac82defe2f",
    "_uuid": "28a465b861a03c50d8e142b661b6627d4d640c79"
   },
   "outputs": [
    {
     "data": {
      "text/plain": [
       "(0, 10)"
      ]
     },
     "execution_count": 19,
     "metadata": {},
     "output_type": "execute_result"
    }
   ],
   "source": [
    "index_temp = guns[(guns['Age'] < 16) & \n",
    "                  ((guns['Education'].isnull()) | (guns['Education'] == 5.0))].index\n",
    "guns.loc[index_temp, 'Education'] = 1.0\n",
    "guns[guns.Education.isnull()].shape"
   ]
  },
  {
   "cell_type": "markdown",
   "metadata": {
    "_cell_guid": "efde6a13-d640-3988-c294-c208fbfaec08",
    "_uuid": "1ff8bd566e054682792c85df8167e3d9e04195c9"
   },
   "source": [
    "In fact, having a 2 year old catagorized under the same education level as a 16 year old (1.0= Under high schools) does not make sence. Let's catagorize children under 5 as 0.0 (= Less than elementary school)."
   ]
  },
  {
   "cell_type": "code",
   "execution_count": 20,
   "metadata": {
    "_cell_guid": "7b676f1b-8db1-ddbc-31cc-8a93d962efe7",
    "_uuid": "73dde099a6dfc4b8d8f5b6c6b39eae220dffcd71"
   },
   "outputs": [
    {
     "data": {
      "text/plain": [
       "count    100798.000000\n",
       "mean          2.292327\n",
       "std           0.993936\n",
       "min           0.000000\n",
       "25%           2.000000\n",
       "50%           2.000000\n",
       "75%           3.000000\n",
       "max           5.000000\n",
       "Name: Education, dtype: float64"
      ]
     },
     "execution_count": 20,
     "metadata": {},
     "output_type": "execute_result"
    }
   ],
   "source": [
    "index_temp = guns[(guns['Age'] < 5)].index\n",
    "guns.loc[index_temp, 'Education'] = 0.0\n",
    "guns.Education.describe()"
   ]
  },
  {
   "cell_type": "code",
   "execution_count": 21,
   "metadata": {
    "_cell_guid": "c2597916-6b80-5bc4-eeb2-8f8aea9ef771",
    "_uuid": "e8474498947ce16dabfd811002b076938d9f58f2",
    "collapsed": true
   },
   "outputs": [],
   "source": [
    "# Let's get rid of rows that has '5.0' (Not available) and NaN in the 'education' column:\n",
    "# subset = can include a list of column names\n",
    "guns.dropna(inplace=True)\n",
    "guns = guns[guns.Education != 5.0]"
   ]
  },
  {
   "cell_type": "code",
   "execution_count": 22,
   "metadata": {
    "_cell_guid": "617ab9d8-ee05-35ff-b8ba-277bfd5805cf",
    "_uuid": "5c57e2381c9dca66dd53ef228b3e3bf7ad3068f0"
   },
   "outputs": [
    {
     "data": {
      "text/plain": [
       "2.0    42258\n",
       "3.0    21430\n",
       "1.0    21284\n",
       "4.0    12879\n",
       "0.0      241\n",
       "Name: Education, dtype: int64"
      ]
     },
     "execution_count": 22,
     "metadata": {},
     "output_type": "execute_result"
    }
   ],
   "source": [
    "guns.Education.value_counts()"
   ]
  },
  {
   "cell_type": "markdown",
   "metadata": {
    "_cell_guid": "e406b100-c505-dc2c-c727-8d606550e439",
    "_uuid": "6157ffbd6ab6255a879da487f8171ee97f19dc22"
   },
   "source": [
    "Another way to get insights about the DataFrame is to look at the unique() values in the columns. I chose to leave out the columns 'age' and index:"
   ]
  },
  {
   "cell_type": "code",
   "execution_count": 23,
   "metadata": {
    "_cell_guid": "6667617e-eb73-b6d1-8fc0-32fee4991106",
    "_uuid": "e4a07b18054be0981f4b86b64538491351ae61e7"
   },
   "outputs": [
    {
     "name": "stdout",
     "output_type": "stream",
     "text": [
      "Year :  [2012 2013 2014]\n",
      "Month :  [ 1  2  3  4  5  6  7  8  9 10 11 12]\n",
      "Intent :  ['Suicide' 'Homicide' 'Accidental' 'Undetermined']\n",
      "Police :  [0 1]\n",
      "Sex :  ['M' 'F']\n",
      "Race :  ['Asian/Pacific Islander' 'White' 'Native American/Native Alaskan' 'Black'\n",
      " 'Hispanic']\n",
      "Hispanic :  [100 211 261 210 282 222 260 200 223 270 226 281 220 275 998 271 231 250\n",
      " 239 280 225 235 234 237 299 227 233 224 221 286 242 212 291 252 232 217\n",
      " 209 218 238]\n",
      "Place :  ['Home' 'Street' 'Other specified' 'Other unspecified' 'Trade/service area'\n",
      " 'Farm' 'Residential institution' 'Industrial/construction' 'Sports'\n",
      " 'School/instiution']\n",
      "Education :  [ 4.  3.  2.  1.  0.]\n"
     ]
    }
   ],
   "source": [
    "for col in guns.columns:\n",
    "    if col not in ['Age', '']:\n",
    "        print(col, ': ', guns[col].unique())"
   ]
  },
  {
   "cell_type": "markdown",
   "metadata": {
    "_cell_guid": "c51dd326-6839-9803-89ad-0ea6ed093cde",
    "_uuid": "935644bd5f50d151ae0f811d380ba6eea2e1ea5a"
   },
   "source": [
    "### Gender numeric comparison\n",
    "This will be easier to see in the visualizations, but here's a first look at the gender distribution of our data."
   ]
  },
  {
   "cell_type": "code",
   "execution_count": 24,
   "metadata": {
    "_cell_guid": "94c7d68b-c172-e315-4477-c795bd5ca0bb",
    "_uuid": "e9cbc86e50a898264069bbe48463cfb92feba82e"
   },
   "outputs": [
    {
     "data": {
      "text/plain": [
       "M    83883\n",
       "F    14209\n",
       "Name: Sex, dtype: int64"
      ]
     },
     "execution_count": 24,
     "metadata": {},
     "output_type": "execute_result"
    }
   ],
   "source": [
    "guns.Sex.value_counts()"
   ]
  },
  {
   "cell_type": "markdown",
   "metadata": {
    "_cell_guid": "03860c6f-695c-96a5-4318-7c66a1b9e565",
    "_uuid": "8c21310279586718b8d1ab2ca80c2f4c6d425efa"
   },
   "source": [
    "We can use this column to split the percentage of Male/Female death cases:"
   ]
  },
  {
   "cell_type": "code",
   "execution_count": 25,
   "metadata": {
    "_cell_guid": "fe211461-c724-9509-3693-059f3cf168b4",
    "_uuid": "b6d09301f8c2dedbf3ceaffb9e35fdfaabebc5c6"
   },
   "outputs": [
    {
     "data": {
      "text/plain": [
       "M    0.855146\n",
       "F    0.144854\n",
       "Name: Sex, dtype: float64"
      ]
     },
     "execution_count": 25,
     "metadata": {},
     "output_type": "execute_result"
    }
   ],
   "source": [
    "guns.Sex.value_counts(normalize=True)"
   ]
  },
  {
   "cell_type": "markdown",
   "metadata": {
    "_cell_guid": "53c44e82-a36b-782c-ccb3-9895d9d00f0a",
    "_uuid": "02e75b9d976af56588c29283a957a5bf475f52bd"
   },
   "source": [
    "The normalized values and the count values seem similar since there are close to 100,000 rows in the data set.\n",
    "\n",
    "### Here are a few questions to practice basic pandas and numpy methods:\n",
    "\n",
    "**Question:** Compare yearly number of deaths: rising or decending?"
   ]
  },
  {
   "cell_type": "code",
   "execution_count": 26,
   "metadata": {
    "_cell_guid": "13bc4740-1a3d-ccde-a12b-d577c09cc9f8",
    "_uuid": "4ffcb3ed39ce0898b1590a270345ae942adbe798"
   },
   "outputs": [
    {
     "data": {
      "text/plain": [
       "2012    32646\n",
       "2013    32758\n",
       "2014    32688\n",
       "Name: Year, dtype: int64"
      ]
     },
     "execution_count": 26,
     "metadata": {},
     "output_type": "execute_result"
    }
   ],
   "source": [
    "guns.Year.value_counts(sort=False)"
   ]
  },
  {
   "cell_type": "code",
   "execution_count": 27,
   "metadata": {
    "_cell_guid": "5acb21c4-0933-94c8-edd2-08766cd4c2e6",
    "_uuid": "55f2d5bfd798e5989ee224d59877528a7020ba37"
   },
   "outputs": [
    {
     "data": {
      "text/plain": [
       "2012    0.000000\n",
       "2013    0.343074\n",
       "2014    0.128653\n",
       "Name: Year, dtype: float64"
      ]
     },
     "execution_count": 27,
     "metadata": {},
     "output_type": "execute_result"
    }
   ],
   "source": [
    "# evaluating the percentage change between years\n",
    "n2012 = guns[2012 == guns['Year']].shape[0]\n",
    "(guns.Year.value_counts(sort=False) - n2012) * 100./ n2012"
   ]
  },
  {
   "cell_type": "markdown",
   "metadata": {
    "_cell_guid": "e8ef55bb-689f-8887-070f-30fce699b7a7",
    "_uuid": "c9ad36e093ea5d05c49e65bcc80f39660d65656b"
   },
   "source": [
    "**Answer:** Seems like it stays about the same. The change does not look significant (<0.3%) by looking at the values.\n",
    "\n",
    "**Question:** Are there certain months with significally more/less gun deaths than others?"
   ]
  },
  {
   "cell_type": "code",
   "execution_count": 28,
   "metadata": {
    "_cell_guid": "1f899ae1-2163-f123-9d65-22da44c7a3c4",
    "_uuid": "d4a1168b20803699899fc1098c5d8e18bfa13c05"
   },
   "outputs": [
    {
     "data": {
      "text/plain": [
       "7     8747\n",
       "8     8520\n",
       "5     8429\n",
       "6     8424\n",
       "9     8305\n",
       "4     8211\n",
       "12    8186\n",
       "10    8185\n",
       "3     8085\n",
       "1     8061\n",
       "11    8033\n",
       "2     6906\n",
       "Name: Month, dtype: int64"
      ]
     },
     "execution_count": 28,
     "metadata": {},
     "output_type": "execute_result"
    }
   ],
   "source": [
    "guns.Month.value_counts(sort=True)"
   ]
  },
  {
   "cell_type": "code",
   "execution_count": 29,
   "metadata": {
    "_cell_guid": "1202c8c4-ecac-7c58-62ec-4cd9d94f21f5",
    "_uuid": "ee09604099d4b177324966b2ecb1c2bad6d01fcb"
   },
   "outputs": [
    {
     "data": {
      "text/plain": [
       "7      7.005668\n",
       "8      4.228683\n",
       "5      3.115443\n",
       "6      3.054276\n",
       "9      1.598499\n",
       "4      0.448558\n",
       "12     0.142723\n",
       "10     0.130490\n",
       "3     -1.092852\n",
       "1     -1.386454\n",
       "11    -1.728989\n",
       "2    -15.516046\n",
       "Name: Month, dtype: float64"
      ]
     },
     "execution_count": 29,
     "metadata": {},
     "output_type": "execute_result"
    }
   ],
   "source": [
    "nexpected_month = guns.shape[0]/12.\n",
    "(guns.Month.value_counts(sort=True) - nexpected_month) * 100./nexpected_month"
   ]
  },
  {
   "cell_type": "markdown",
   "metadata": {
    "_cell_guid": "0b350c66-8891-2c4c-1ce8-d21fe9e706c2",
    "_uuid": "7cac30905d1db81029079fb8f717cc4787359a3c"
   },
   "source": [
    "**Answer:** It seems February has around 15% less gun deaths than the expected (Is it its length, the weather, a different reason or a combination of all? If we want to further investigate this - we can to look at the 'location' column to see if most gun deaths in certain months occured outside/inside).\n",
    "\n",
    "Also, we see July has 7% more than expected year-wide, way above anything month.\n",
    "This is not accurate since we're not taking in account the number of days in each month. We could devide it by number of days in each month, but 2012 was a leap year which changes the number for february.\n",
    "\n",
    "The best practice is to convert the month values to datetime objects.\n",
    "\n",
    "**Season/Month analysis:** Since we're dealing with dates, let's arrange the data by year and month:"
   ]
  },
  {
   "cell_type": "code",
   "execution_count": 30,
   "metadata": {
    "_cell_guid": "1d6054c6-b537-e389-19ac-aa83aebe68d4",
    "_uuid": "b3f75f78df169d0394932a2fe578ae1b3af7400b"
   },
   "outputs": [
    {
     "data": {
      "text/html": [
       "<div>\n",
       "<style>\n",
       "    .dataframe thead tr:only-child th {\n",
       "        text-align: right;\n",
       "    }\n",
       "\n",
       "    .dataframe thead th {\n",
       "        text-align: left;\n",
       "    }\n",
       "\n",
       "    .dataframe tbody tr th {\n",
       "        vertical-align: top;\n",
       "    }\n",
       "</style>\n",
       "<table border=\"1\" class=\"dataframe\">\n",
       "  <thead>\n",
       "    <tr style=\"text-align: right;\">\n",
       "      <th></th>\n",
       "      <th>Year</th>\n",
       "      <th>Month</th>\n",
       "      <th>Intent</th>\n",
       "      <th>Police</th>\n",
       "      <th>Sex</th>\n",
       "      <th>Age</th>\n",
       "      <th>Race</th>\n",
       "      <th>Hispanic</th>\n",
       "      <th>Place</th>\n",
       "      <th>Education</th>\n",
       "    </tr>\n",
       "    <tr>\n",
       "      <th>Index</th>\n",
       "      <th></th>\n",
       "      <th></th>\n",
       "      <th></th>\n",
       "      <th></th>\n",
       "      <th></th>\n",
       "      <th></th>\n",
       "      <th></th>\n",
       "      <th></th>\n",
       "      <th></th>\n",
       "      <th></th>\n",
       "    </tr>\n",
       "  </thead>\n",
       "  <tbody>\n",
       "    <tr>\n",
       "      <th>1</th>\n",
       "      <td>2012</td>\n",
       "      <td>1</td>\n",
       "      <td>Suicide</td>\n",
       "      <td>0</td>\n",
       "      <td>M</td>\n",
       "      <td>34.0</td>\n",
       "      <td>Asian/Pacific Islander</td>\n",
       "      <td>100</td>\n",
       "      <td>Home</td>\n",
       "      <td>4.0</td>\n",
       "    </tr>\n",
       "    <tr>\n",
       "      <th>2</th>\n",
       "      <td>2012</td>\n",
       "      <td>1</td>\n",
       "      <td>Suicide</td>\n",
       "      <td>0</td>\n",
       "      <td>F</td>\n",
       "      <td>21.0</td>\n",
       "      <td>White</td>\n",
       "      <td>100</td>\n",
       "      <td>Street</td>\n",
       "      <td>3.0</td>\n",
       "    </tr>\n",
       "    <tr>\n",
       "      <th>3</th>\n",
       "      <td>2012</td>\n",
       "      <td>1</td>\n",
       "      <td>Suicide</td>\n",
       "      <td>0</td>\n",
       "      <td>M</td>\n",
       "      <td>60.0</td>\n",
       "      <td>White</td>\n",
       "      <td>100</td>\n",
       "      <td>Other specified</td>\n",
       "      <td>4.0</td>\n",
       "    </tr>\n",
       "    <tr>\n",
       "      <th>12</th>\n",
       "      <td>2012</td>\n",
       "      <td>1</td>\n",
       "      <td>Suicide</td>\n",
       "      <td>0</td>\n",
       "      <td>M</td>\n",
       "      <td>21.0</td>\n",
       "      <td>Native American/Native Alaskan</td>\n",
       "      <td>100</td>\n",
       "      <td>Home</td>\n",
       "      <td>2.0</td>\n",
       "    </tr>\n",
       "    <tr>\n",
       "      <th>135</th>\n",
       "      <td>2012</td>\n",
       "      <td>1</td>\n",
       "      <td>Suicide</td>\n",
       "      <td>0</td>\n",
       "      <td>F</td>\n",
       "      <td>59.0</td>\n",
       "      <td>White</td>\n",
       "      <td>100</td>\n",
       "      <td>Home</td>\n",
       "      <td>2.0</td>\n",
       "    </tr>\n",
       "  </tbody>\n",
       "</table>\n",
       "</div>"
      ],
      "text/plain": [
       "       Year  Month   Intent  Police Sex   Age                            Race  \\\n",
       "Index                                                                           \n",
       "1      2012      1  Suicide       0   M  34.0          Asian/Pacific Islander   \n",
       "2      2012      1  Suicide       0   F  21.0                           White   \n",
       "3      2012      1  Suicide       0   M  60.0                           White   \n",
       "12     2012      1  Suicide       0   M  21.0  Native American/Native Alaskan   \n",
       "135    2012      1  Suicide       0   F  59.0                           White   \n",
       "\n",
       "       Hispanic            Place  Education  \n",
       "Index                                        \n",
       "1           100             Home        4.0  \n",
       "2           100           Street        3.0  \n",
       "3           100  Other specified        4.0  \n",
       "12          100             Home        2.0  \n",
       "135         100             Home        2.0  "
      ]
     },
     "execution_count": 30,
     "metadata": {},
     "output_type": "execute_result"
    }
   ],
   "source": [
    "guns.sort_values(['Year', 'Month'], inplace=True)\n",
    "guns.head()"
   ]
  },
  {
   "cell_type": "markdown",
   "metadata": {
    "_cell_guid": "b50bff74-5fbb-46d0-a4aa-a5c977ae96f2",
    "_uuid": "96879e7a7653dd602f39774e7401cf97d04831fc"
   },
   "source": [
    "A date object implies year, month and day. We cannot create a datetime object without a day, but for the sake of practice - let's combine the 2 date values (of type int64) into one datetime object, and assign '1' in the day value."
   ]
  },
  {
   "cell_type": "code",
   "execution_count": 31,
   "metadata": {
    "_cell_guid": "295ab7dc-5456-5def-ec5f-cd60d22b03ef",
    "_uuid": "595ba3320dcad7e29ea146aa1a19e93c307c45e7"
   },
   "outputs": [
    {
     "data": {
      "text/plain": [
       "Date    datetime64[ns]\n",
       "dtype: object"
      ]
     },
     "execution_count": 31,
     "metadata": {},
     "output_type": "execute_result"
    }
   ],
   "source": [
    "import datetime\n",
    "# The purpose of *10000 and the *100 are to convert 2012, 01, 01 into 20120101 for readability\n",
    "guns['Date'] = pd.to_datetime((guns.Year * 10000 + guns.Month * 100 + 1).apply(str),format='%Y%m%d')\n",
    "guns.dtypes.tail(1)"
   ]
  },
  {
   "cell_type": "code",
   "execution_count": 32,
   "metadata": {
    "_cell_guid": "8df6de23-c32c-a78d-ecc7-fa62aaff12ae",
    "_uuid": "e2f6979ebd47b7edb6bd1dfa7b44664e0ca652b9"
   },
   "outputs": [
    {
     "data": {
      "text/html": [
       "<div>\n",
       "<style>\n",
       "    .dataframe thead tr:only-child th {\n",
       "        text-align: right;\n",
       "    }\n",
       "\n",
       "    .dataframe thead th {\n",
       "        text-align: left;\n",
       "    }\n",
       "\n",
       "    .dataframe tbody tr th {\n",
       "        vertical-align: top;\n",
       "    }\n",
       "</style>\n",
       "<table border=\"1\" class=\"dataframe\">\n",
       "  <thead>\n",
       "    <tr style=\"text-align: right;\">\n",
       "      <th></th>\n",
       "      <th>Intent</th>\n",
       "      <th>Police</th>\n",
       "      <th>Sex</th>\n",
       "      <th>Age</th>\n",
       "      <th>Race</th>\n",
       "      <th>Hispanic</th>\n",
       "      <th>Place</th>\n",
       "      <th>Education</th>\n",
       "      <th>Date</th>\n",
       "    </tr>\n",
       "    <tr>\n",
       "      <th>Index</th>\n",
       "      <th></th>\n",
       "      <th></th>\n",
       "      <th></th>\n",
       "      <th></th>\n",
       "      <th></th>\n",
       "      <th></th>\n",
       "      <th></th>\n",
       "      <th></th>\n",
       "      <th></th>\n",
       "    </tr>\n",
       "  </thead>\n",
       "  <tbody>\n",
       "    <tr>\n",
       "      <th>1</th>\n",
       "      <td>Suicide</td>\n",
       "      <td>0</td>\n",
       "      <td>M</td>\n",
       "      <td>34.0</td>\n",
       "      <td>Asian/Pacific Islander</td>\n",
       "      <td>100</td>\n",
       "      <td>Home</td>\n",
       "      <td>4.0</td>\n",
       "      <td>2012-01-01</td>\n",
       "    </tr>\n",
       "    <tr>\n",
       "      <th>2</th>\n",
       "      <td>Suicide</td>\n",
       "      <td>0</td>\n",
       "      <td>F</td>\n",
       "      <td>21.0</td>\n",
       "      <td>White</td>\n",
       "      <td>100</td>\n",
       "      <td>Street</td>\n",
       "      <td>3.0</td>\n",
       "      <td>2012-01-01</td>\n",
       "    </tr>\n",
       "    <tr>\n",
       "      <th>3</th>\n",
       "      <td>Suicide</td>\n",
       "      <td>0</td>\n",
       "      <td>M</td>\n",
       "      <td>60.0</td>\n",
       "      <td>White</td>\n",
       "      <td>100</td>\n",
       "      <td>Other specified</td>\n",
       "      <td>4.0</td>\n",
       "      <td>2012-01-01</td>\n",
       "    </tr>\n",
       "    <tr>\n",
       "      <th>12</th>\n",
       "      <td>Suicide</td>\n",
       "      <td>0</td>\n",
       "      <td>M</td>\n",
       "      <td>21.0</td>\n",
       "      <td>Native American/Native Alaskan</td>\n",
       "      <td>100</td>\n",
       "      <td>Home</td>\n",
       "      <td>2.0</td>\n",
       "      <td>2012-01-01</td>\n",
       "    </tr>\n",
       "    <tr>\n",
       "      <th>135</th>\n",
       "      <td>Suicide</td>\n",
       "      <td>0</td>\n",
       "      <td>F</td>\n",
       "      <td>59.0</td>\n",
       "      <td>White</td>\n",
       "      <td>100</td>\n",
       "      <td>Home</td>\n",
       "      <td>2.0</td>\n",
       "      <td>2012-01-01</td>\n",
       "    </tr>\n",
       "  </tbody>\n",
       "</table>\n",
       "</div>"
      ],
      "text/plain": [
       "        Intent  Police Sex   Age                            Race  Hispanic  \\\n",
       "Index                                                                        \n",
       "1      Suicide       0   M  34.0          Asian/Pacific Islander       100   \n",
       "2      Suicide       0   F  21.0                           White       100   \n",
       "3      Suicide       0   M  60.0                           White       100   \n",
       "12     Suicide       0   M  21.0  Native American/Native Alaskan       100   \n",
       "135    Suicide       0   F  59.0                           White       100   \n",
       "\n",
       "                 Place  Education       Date  \n",
       "Index                                         \n",
       "1                 Home        4.0 2012-01-01  \n",
       "2               Street        3.0 2012-01-01  \n",
       "3      Other specified        4.0 2012-01-01  \n",
       "12                Home        2.0 2012-01-01  \n",
       "135               Home        2.0 2012-01-01  "
      ]
     },
     "execution_count": 32,
     "metadata": {},
     "output_type": "execute_result"
    }
   ],
   "source": [
    "# now that we're done with these columns:\n",
    "del guns['Year']\n",
    "del guns['Month']\n",
    "guns.head()"
   ]
  },
  {
   "cell_type": "code",
   "execution_count": 33,
   "metadata": {
    "_cell_guid": "829a376d-e9fd-d7e5-a346-d69fdecf5db4",
    "_uuid": "6cef840450c30cb08d4cad44739c795473a823f0"
   },
   "outputs": [
    {
     "name": "stdout",
     "output_type": "stream",
     "text": [
      "datetime64[ns]\n",
      "(36, 1)\n"
     ]
    },
    {
     "data": {
      "text/html": [
       "<div>\n",
       "<style>\n",
       "    .dataframe thead tr:only-child th {\n",
       "        text-align: right;\n",
       "    }\n",
       "\n",
       "    .dataframe thead th {\n",
       "        text-align: left;\n",
       "    }\n",
       "\n",
       "    .dataframe tbody tr th {\n",
       "        vertical-align: top;\n",
       "    }\n",
       "</style>\n",
       "<table border=\"1\" class=\"dataframe\">\n",
       "  <thead>\n",
       "    <tr style=\"text-align: right;\">\n",
       "      <th></th>\n",
       "      <th>Count</th>\n",
       "    </tr>\n",
       "    <tr>\n",
       "      <th>Date</th>\n",
       "      <th></th>\n",
       "    </tr>\n",
       "  </thead>\n",
       "  <tbody>\n",
       "    <tr>\n",
       "      <th>2012-01-01</th>\n",
       "      <td>2695</td>\n",
       "    </tr>\n",
       "    <tr>\n",
       "      <th>2012-02-01</th>\n",
       "      <td>2283</td>\n",
       "    </tr>\n",
       "    <tr>\n",
       "      <th>2012-03-01</th>\n",
       "      <td>2678</td>\n",
       "    </tr>\n",
       "    <tr>\n",
       "      <th>2012-04-01</th>\n",
       "      <td>2721</td>\n",
       "    </tr>\n",
       "    <tr>\n",
       "      <th>2012-05-01</th>\n",
       "      <td>2928</td>\n",
       "    </tr>\n",
       "  </tbody>\n",
       "</table>\n",
       "</div>"
      ],
      "text/plain": [
       "            Count\n",
       "Date             \n",
       "2012-01-01   2695\n",
       "2012-02-01   2283\n",
       "2012-03-01   2678\n",
       "2012-04-01   2721\n",
       "2012-05-01   2928"
      ]
     },
     "execution_count": 33,
     "metadata": {},
     "output_type": "execute_result"
    }
   ],
   "source": [
    "import calendar\n",
    "monthly_rates = pd.DataFrame(guns.groupby('Date').size(), columns=['Count'])\n",
    "monthly_rates.index.to_datetime\n",
    "print(monthly_rates.index.dtype)\n",
    "print(monthly_rates.shape)\n",
    "monthly_rates.head()"
   ]
  },
  {
   "cell_type": "code",
   "execution_count": 34,
   "metadata": {
    "_cell_guid": "8bc0db68-3ed2-4602-a70a-d43b4103603c",
    "_uuid": "9b24c1bf017bf21befa55edf791edc5fc1dd2798"
   },
   "outputs": [
    {
     "data": {
      "text/html": [
       "<div>\n",
       "<style>\n",
       "    .dataframe thead tr:only-child th {\n",
       "        text-align: right;\n",
       "    }\n",
       "\n",
       "    .dataframe thead th {\n",
       "        text-align: left;\n",
       "    }\n",
       "\n",
       "    .dataframe tbody tr th {\n",
       "        vertical-align: top;\n",
       "    }\n",
       "</style>\n",
       "<table border=\"1\" class=\"dataframe\">\n",
       "  <thead>\n",
       "    <tr style=\"text-align: right;\">\n",
       "      <th></th>\n",
       "      <th>Count</th>\n",
       "      <th>Days_per_month</th>\n",
       "    </tr>\n",
       "    <tr>\n",
       "      <th>Date</th>\n",
       "      <th></th>\n",
       "      <th></th>\n",
       "    </tr>\n",
       "  </thead>\n",
       "  <tbody>\n",
       "    <tr>\n",
       "      <th>2012-01-01</th>\n",
       "      <td>2695</td>\n",
       "      <td>31</td>\n",
       "    </tr>\n",
       "    <tr>\n",
       "      <th>2012-02-01</th>\n",
       "      <td>2283</td>\n",
       "      <td>29</td>\n",
       "    </tr>\n",
       "    <tr>\n",
       "      <th>2012-03-01</th>\n",
       "      <td>2678</td>\n",
       "      <td>31</td>\n",
       "    </tr>\n",
       "    <tr>\n",
       "      <th>2012-04-01</th>\n",
       "      <td>2721</td>\n",
       "      <td>30</td>\n",
       "    </tr>\n",
       "    <tr>\n",
       "      <th>2012-05-01</th>\n",
       "      <td>2928</td>\n",
       "      <td>31</td>\n",
       "    </tr>\n",
       "  </tbody>\n",
       "</table>\n",
       "</div>"
      ],
      "text/plain": [
       "            Count  Days_per_month\n",
       "Date                             \n",
       "2012-01-01   2695              31\n",
       "2012-02-01   2283              29\n",
       "2012-03-01   2678              31\n",
       "2012-04-01   2721              30\n",
       "2012-05-01   2928              31"
      ]
     },
     "execution_count": 34,
     "metadata": {},
     "output_type": "execute_result"
    }
   ],
   "source": [
    "days_per_month = []\n",
    "for val in monthly_rates.index:\n",
    "    days_per_month.append(calendar.monthrange(val.year, val.month)[1])\n",
    "monthly_rates['Days_per_month'] = days_per_month\n",
    "monthly_rates.head()"
   ]
  },
  {
   "cell_type": "markdown",
   "metadata": {
    "_cell_guid": "594ab2bd-4994-8700-29db-7bab188b0453",
    "_uuid": "944d91e4742cb1f36487265abb3d1ae1858c95fd"
   },
   "source": [
    "Note: another way to do this is to set the 'day' in each date as the last day of each month [instead of the first day]. This way we have the length of the month in the day field and don't need 'monthrange'. However, having a '01' in each of the datetime objects make it look more consistent and less random, in my view. As long as we remember that the values refer to the whole month."
   ]
  },
  {
   "cell_type": "code",
   "execution_count": 35,
   "metadata": {
    "_cell_guid": "a5c91168-92a1-5679-f0f0-1283565c963a",
    "_uuid": "4df0544a721a1bff3a70144cc7c7bd9b4772a5aa"
   },
   "outputs": [
    {
     "name": "stdout",
     "output_type": "stream",
     "text": [
      "(36, 3)\n"
     ]
    },
    {
     "data": {
      "text/html": [
       "<div>\n",
       "<style>\n",
       "    .dataframe thead tr:only-child th {\n",
       "        text-align: right;\n",
       "    }\n",
       "\n",
       "    .dataframe thead th {\n",
       "        text-align: left;\n",
       "    }\n",
       "\n",
       "    .dataframe tbody tr th {\n",
       "        vertical-align: top;\n",
       "    }\n",
       "</style>\n",
       "<table border=\"1\" class=\"dataframe\">\n",
       "  <thead>\n",
       "    <tr style=\"text-align: right;\">\n",
       "      <th></th>\n",
       "      <th>Count</th>\n",
       "      <th>Days_per_month</th>\n",
       "      <th>Average_per_day</th>\n",
       "    </tr>\n",
       "    <tr>\n",
       "      <th>Date</th>\n",
       "      <th></th>\n",
       "      <th></th>\n",
       "      <th></th>\n",
       "    </tr>\n",
       "  </thead>\n",
       "  <tbody>\n",
       "    <tr>\n",
       "      <th>2014-08-01</th>\n",
       "      <td>2882</td>\n",
       "      <td>31</td>\n",
       "      <td>92.967742</td>\n",
       "    </tr>\n",
       "    <tr>\n",
       "      <th>2014-09-01</th>\n",
       "      <td>2851</td>\n",
       "      <td>30</td>\n",
       "      <td>95.033333</td>\n",
       "    </tr>\n",
       "    <tr>\n",
       "      <th>2014-10-01</th>\n",
       "      <td>2792</td>\n",
       "      <td>31</td>\n",
       "      <td>90.064516</td>\n",
       "    </tr>\n",
       "    <tr>\n",
       "      <th>2014-11-01</th>\n",
       "      <td>2688</td>\n",
       "      <td>30</td>\n",
       "      <td>89.600000</td>\n",
       "    </tr>\n",
       "    <tr>\n",
       "      <th>2014-12-01</th>\n",
       "      <td>2771</td>\n",
       "      <td>31</td>\n",
       "      <td>89.387097</td>\n",
       "    </tr>\n",
       "  </tbody>\n",
       "</table>\n",
       "</div>"
      ],
      "text/plain": [
       "            Count  Days_per_month  Average_per_day\n",
       "Date                                              \n",
       "2014-08-01   2882              31        92.967742\n",
       "2014-09-01   2851              30        95.033333\n",
       "2014-10-01   2792              31        90.064516\n",
       "2014-11-01   2688              30        89.600000\n",
       "2014-12-01   2771              31        89.387097"
      ]
     },
     "execution_count": 35,
     "metadata": {},
     "output_type": "execute_result"
    }
   ],
   "source": [
    "monthly_rates['Average_per_day'] = monthly_rates['Count']*1./monthly_rates['Days_per_month']\n",
    "print(monthly_rates.shape)\n",
    "monthly_rates.tail()"
   ]
  },
  {
   "cell_type": "code",
   "execution_count": 36,
   "metadata": {
    "_cell_guid": "e1751f0c-53f5-7c05-04f4-f420f29b8508",
    "_uuid": "b70fffba025625cdc04ab516d23f9871e410c068"
   },
   "outputs": [
    {
     "data": {
      "text/html": [
       "<div>\n",
       "<style>\n",
       "    .dataframe thead tr:only-child th {\n",
       "        text-align: right;\n",
       "    }\n",
       "\n",
       "    .dataframe thead th {\n",
       "        text-align: left;\n",
       "    }\n",
       "\n",
       "    .dataframe tbody tr th {\n",
       "        vertical-align: top;\n",
       "    }\n",
       "</style>\n",
       "<table border=\"1\" class=\"dataframe\">\n",
       "  <thead>\n",
       "    <tr style=\"text-align: right;\">\n",
       "      <th></th>\n",
       "      <th>Month</th>\n",
       "      <th>Value</th>\n",
       "    </tr>\n",
       "  </thead>\n",
       "  <tbody>\n",
       "    <tr>\n",
       "      <th>0</th>\n",
       "      <td>1</td>\n",
       "      <td>86.677419</td>\n",
       "    </tr>\n",
       "    <tr>\n",
       "      <th>1</th>\n",
       "      <td>2</td>\n",
       "      <td>81.277094</td>\n",
       "    </tr>\n",
       "    <tr>\n",
       "      <th>2</th>\n",
       "      <td>3</td>\n",
       "      <td>86.935484</td>\n",
       "    </tr>\n",
       "    <tr>\n",
       "      <th>3</th>\n",
       "      <td>4</td>\n",
       "      <td>91.233333</td>\n",
       "    </tr>\n",
       "    <tr>\n",
       "      <th>4</th>\n",
       "      <td>5</td>\n",
       "      <td>90.634409</td>\n",
       "    </tr>\n",
       "    <tr>\n",
       "      <th>5</th>\n",
       "      <td>6</td>\n",
       "      <td>93.600000</td>\n",
       "    </tr>\n",
       "    <tr>\n",
       "      <th>6</th>\n",
       "      <td>7</td>\n",
       "      <td>94.053763</td>\n",
       "    </tr>\n",
       "    <tr>\n",
       "      <th>7</th>\n",
       "      <td>8</td>\n",
       "      <td>91.612903</td>\n",
       "    </tr>\n",
       "    <tr>\n",
       "      <th>8</th>\n",
       "      <td>9</td>\n",
       "      <td>92.277778</td>\n",
       "    </tr>\n",
       "    <tr>\n",
       "      <th>9</th>\n",
       "      <td>10</td>\n",
       "      <td>88.010753</td>\n",
       "    </tr>\n",
       "    <tr>\n",
       "      <th>10</th>\n",
       "      <td>11</td>\n",
       "      <td>89.255556</td>\n",
       "    </tr>\n",
       "    <tr>\n",
       "      <th>11</th>\n",
       "      <td>12</td>\n",
       "      <td>88.021505</td>\n",
       "    </tr>\n",
       "  </tbody>\n",
       "</table>\n",
       "</div>"
      ],
      "text/plain": [
       "    Month      Value\n",
       "0       1  86.677419\n",
       "1       2  81.277094\n",
       "2       3  86.935484\n",
       "3       4  91.233333\n",
       "4       5  90.634409\n",
       "5       6  93.600000\n",
       "6       7  94.053763\n",
       "7       8  91.612903\n",
       "8       9  92.277778\n",
       "9      10  88.010753\n",
       "10     11  89.255556\n",
       "11     12  88.021505"
      ]
     },
     "execution_count": 36,
     "metadata": {},
     "output_type": "execute_result"
    }
   ],
   "source": [
    "month_rate_dict = {}\n",
    "for i in range(1,13):\n",
    "    bool_temp = monthly_rates.index.month == i\n",
    "    month_average = (sum(monthly_rates.loc[bool_temp, 'Average_per_day']))/3.\n",
    "    month_rate_dict[i] = month_average\n",
    "# avg_month_rate = pd.DataFrame.from_dict(month_rate_dict)\n",
    "# python 2: \n",
    "# avg_month_rate = pd.DataFrame(month_rate_dict.items(), columns=['Month', 'Value'])\n",
    "avg_month_rate = pd.DataFrame.from_dict(list(month_rate_dict.items()))\n",
    "avg_month_rate.columns = ['Month', 'Value']\n",
    "avg_month_rate"
   ]
  },
  {
   "cell_type": "code",
   "execution_count": 37,
   "metadata": {
    "_cell_guid": "d466322c-cf2f-0b89-4977-7839f09edb6c",
    "_uuid": "dafb865de949bfa10fcbd90d78fe3afad646890a"
   },
   "outputs": [
    {
     "data": {
      "text/plain": [
       "89.5"
      ]
     },
     "execution_count": 37,
     "metadata": {},
     "output_type": "execute_result"
    }
   ],
   "source": [
    "# calculating the expected cases for each day [+1. becuase 2012 was a leap year]\n",
    "nexpected_day = guns.shape[0]/(365*3 + 1.)\n",
    "nexpected_day"
   ]
  },
  {
   "cell_type": "code",
   "execution_count": 38,
   "metadata": {
    "_cell_guid": "d2e1a32d-6e56-1e1b-f3f0-eff347f8cc43",
    "_uuid": "5ab5e416def9cfd7c583745272f62c15a8131593"
   },
   "outputs": [
    {
     "name": "stdout",
     "output_type": "stream",
     "text": [
      "    Month      Value  Percent_change\n",
      "1       2  81.277094       -9.187605\n",
      "0       1  86.677419       -3.153721\n",
      "2       3  86.935484       -2.865381\n",
      "9      10  88.010753       -1.663963\n",
      "11     12  88.021505       -1.651949\n",
      "10     11  89.255556       -0.273122\n",
      "4       5  90.634409        1.267496\n",
      "3       4  91.233333        1.936685\n",
      "7       8  91.612903        2.360786\n",
      "8       9  92.277778        3.103662\n",
      "5       6  93.600000        4.581006\n",
      "6       7  94.053763        5.088004\n"
     ]
    }
   ],
   "source": [
    "avg_month_rate['Percent_change'] = (avg_month_rate.Value - nexpected_day) * 100./ nexpected_day\n",
    "print(avg_month_rate.sort_values('Percent_change'))"
   ]
  },
  {
   "cell_type": "markdown",
   "metadata": {
    "_cell_guid": "b5666d95-2249-b9f8-3f5d-6abcffb9a7eb",
    "_uuid": "87f45ce19731780de83c78df0652a8d7c614a33f"
   },
   "source": [
    "Now that we have the daily average, we can say with more certainty that July (~(+5.3%)) and June (~(+4.6%)) have higher gun death rate than the rest of the months, while February (~(-9%)) has significantly lower amount of guns deaths (but not 15% lower as the 'rough analysis' from before showed).\n",
    "\n",
    "**Question:** What percentage of cases were police officers involved in?"
   ]
  },
  {
   "cell_type": "code",
   "execution_count": 39,
   "metadata": {
    "_cell_guid": "529a30d2-564c-c263-4ff5-bc73c5550bc4",
    "_uuid": "c39a04f683fba5a754847dfd297c13e7f1613186"
   },
   "outputs": [
    {
     "data": {
      "text/plain": [
       "0    99.98063\n",
       "1     0.01937\n",
       "Name: Police, dtype: float64"
      ]
     },
     "execution_count": 39,
     "metadata": {},
     "output_type": "execute_result"
    }
   ],
   "source": [
    "100 * guns.Police.value_counts(normalize=True)"
   ]
  },
  {
   "cell_type": "markdown",
   "metadata": {
    "_cell_guid": "ef3b1583-815c-cce3-de38-3661ea8c8820",
    "_uuid": "07d7d41c32bfe38d35d3b6fef96a3e4cf1204835"
   },
   "source": [
    "Seeing this kind of distribution means this column does not give us any additional information about the cases and we can remove it all together."
   ]
  },
  {
   "cell_type": "code",
   "execution_count": 40,
   "metadata": {
    "_cell_guid": "961d256f-80e8-b8be-1c44-fd1061237252",
    "_uuid": "1f2350ca3a499d969e2d172e00de6ba1b2b3712f"
   },
   "outputs": [
    {
     "name": "stdout",
     "output_type": "stream",
     "text": [
      "(98092, 8)\n"
     ]
    },
    {
     "data": {
      "text/html": [
       "<div>\n",
       "<style>\n",
       "    .dataframe thead tr:only-child th {\n",
       "        text-align: right;\n",
       "    }\n",
       "\n",
       "    .dataframe thead th {\n",
       "        text-align: left;\n",
       "    }\n",
       "\n",
       "    .dataframe tbody tr th {\n",
       "        vertical-align: top;\n",
       "    }\n",
       "</style>\n",
       "<table border=\"1\" class=\"dataframe\">\n",
       "  <thead>\n",
       "    <tr style=\"text-align: right;\">\n",
       "      <th></th>\n",
       "      <th>Intent</th>\n",
       "      <th>Sex</th>\n",
       "      <th>Age</th>\n",
       "      <th>Race</th>\n",
       "      <th>Hispanic</th>\n",
       "      <th>Place</th>\n",
       "      <th>Education</th>\n",
       "      <th>Date</th>\n",
       "    </tr>\n",
       "    <tr>\n",
       "      <th>Index</th>\n",
       "      <th></th>\n",
       "      <th></th>\n",
       "      <th></th>\n",
       "      <th></th>\n",
       "      <th></th>\n",
       "      <th></th>\n",
       "      <th></th>\n",
       "      <th></th>\n",
       "    </tr>\n",
       "  </thead>\n",
       "  <tbody>\n",
       "    <tr>\n",
       "      <th>1</th>\n",
       "      <td>Suicide</td>\n",
       "      <td>M</td>\n",
       "      <td>34.0</td>\n",
       "      <td>Asian/Pacific Islander</td>\n",
       "      <td>100</td>\n",
       "      <td>Home</td>\n",
       "      <td>4.0</td>\n",
       "      <td>2012-01-01</td>\n",
       "    </tr>\n",
       "    <tr>\n",
       "      <th>2</th>\n",
       "      <td>Suicide</td>\n",
       "      <td>F</td>\n",
       "      <td>21.0</td>\n",
       "      <td>White</td>\n",
       "      <td>100</td>\n",
       "      <td>Street</td>\n",
       "      <td>3.0</td>\n",
       "      <td>2012-01-01</td>\n",
       "    </tr>\n",
       "    <tr>\n",
       "      <th>3</th>\n",
       "      <td>Suicide</td>\n",
       "      <td>M</td>\n",
       "      <td>60.0</td>\n",
       "      <td>White</td>\n",
       "      <td>100</td>\n",
       "      <td>Other specified</td>\n",
       "      <td>4.0</td>\n",
       "      <td>2012-01-01</td>\n",
       "    </tr>\n",
       "    <tr>\n",
       "      <th>12</th>\n",
       "      <td>Suicide</td>\n",
       "      <td>M</td>\n",
       "      <td>21.0</td>\n",
       "      <td>Native American/Native Alaskan</td>\n",
       "      <td>100</td>\n",
       "      <td>Home</td>\n",
       "      <td>2.0</td>\n",
       "      <td>2012-01-01</td>\n",
       "    </tr>\n",
       "    <tr>\n",
       "      <th>135</th>\n",
       "      <td>Suicide</td>\n",
       "      <td>F</td>\n",
       "      <td>59.0</td>\n",
       "      <td>White</td>\n",
       "      <td>100</td>\n",
       "      <td>Home</td>\n",
       "      <td>2.0</td>\n",
       "      <td>2012-01-01</td>\n",
       "    </tr>\n",
       "  </tbody>\n",
       "</table>\n",
       "</div>"
      ],
      "text/plain": [
       "        Intent Sex   Age                            Race  Hispanic  \\\n",
       "Index                                                                \n",
       "1      Suicide   M  34.0          Asian/Pacific Islander       100   \n",
       "2      Suicide   F  21.0                           White       100   \n",
       "3      Suicide   M  60.0                           White       100   \n",
       "12     Suicide   M  21.0  Native American/Native Alaskan       100   \n",
       "135    Suicide   F  59.0                           White       100   \n",
       "\n",
       "                 Place  Education       Date  \n",
       "Index                                         \n",
       "1                 Home        4.0 2012-01-01  \n",
       "2               Street        3.0 2012-01-01  \n",
       "3      Other specified        4.0 2012-01-01  \n",
       "12                Home        2.0 2012-01-01  \n",
       "135               Home        2.0 2012-01-01  "
      ]
     },
     "execution_count": 40,
     "metadata": {},
     "output_type": "execute_result"
    }
   ],
   "source": [
    "del guns['Police']\n",
    "print(guns.shape)\n",
    "guns.head()"
   ]
  },
  {
   "cell_type": "markdown",
   "metadata": {
    "_cell_guid": "e2023352-35d0-ea1d-ea35-f71bb6c418e7",
    "_uuid": "29dc80eba706706d87a5542f0e0e1314b01adb8a"
   },
   "source": [
    "**Question:** Which race appears the most in the df and which appears the least?"
   ]
  },
  {
   "cell_type": "code",
   "execution_count": 41,
   "metadata": {
    "_cell_guid": "789deb53-d6b3-e447-23a0-3e25d310f3c7",
    "_uuid": "95346d7eae3296963e66991f3878c5680dab9da5"
   },
   "outputs": [
    {
     "data": {
      "text/plain": [
       "White                             0.658841\n",
       "Black                             0.231497\n",
       "Hispanic                          0.087816\n",
       "Asian/Pacific Islander            0.012876\n",
       "Native American/Native Alaskan    0.008971\n",
       "Name: Race, dtype: float64"
      ]
     },
     "execution_count": 41,
     "metadata": {},
     "output_type": "execute_result"
    }
   ],
   "source": [
    "guns.Race.value_counts(sort=True, normalize=True)"
   ]
  },
  {
   "cell_type": "markdown",
   "metadata": {
    "_cell_guid": "556f8b61-049d-d75a-959b-6d24f8cfbd4d",
    "_uuid": "72d7161627ef64ed04d426e9604578e9b7079067"
   },
   "source": [
    "**Answer:** We can not conclude anything by those numbers unless we take in account the distribution of races in the US population.\n",
    "\n",
    "**Question:** How do you sample a dataframe?\n",
    "\n",
    "**Answer:**"
   ]
  },
  {
   "cell_type": "code",
   "execution_count": 42,
   "metadata": {
    "_cell_guid": "91b276a5-5186-f87f-1f57-d85d16350c3f",
    "_uuid": "a1ed3b75358543d26e7d5549d68457713ff49003"
   },
   "outputs": [
    {
     "data": {
      "text/html": [
       "<div>\n",
       "<style>\n",
       "    .dataframe thead tr:only-child th {\n",
       "        text-align: right;\n",
       "    }\n",
       "\n",
       "    .dataframe thead th {\n",
       "        text-align: left;\n",
       "    }\n",
       "\n",
       "    .dataframe tbody tr th {\n",
       "        vertical-align: top;\n",
       "    }\n",
       "</style>\n",
       "<table border=\"1\" class=\"dataframe\">\n",
       "  <thead>\n",
       "    <tr style=\"text-align: right;\">\n",
       "      <th></th>\n",
       "      <th>Intent</th>\n",
       "      <th>Sex</th>\n",
       "      <th>Age</th>\n",
       "      <th>Race</th>\n",
       "      <th>Hispanic</th>\n",
       "      <th>Place</th>\n",
       "      <th>Education</th>\n",
       "      <th>Date</th>\n",
       "    </tr>\n",
       "    <tr>\n",
       "      <th>Index</th>\n",
       "      <th></th>\n",
       "      <th></th>\n",
       "      <th></th>\n",
       "      <th></th>\n",
       "      <th></th>\n",
       "      <th></th>\n",
       "      <th></th>\n",
       "      <th></th>\n",
       "    </tr>\n",
       "  </thead>\n",
       "  <tbody>\n",
       "    <tr>\n",
       "      <th>94267</th>\n",
       "      <td>Suicide</td>\n",
       "      <td>M</td>\n",
       "      <td>28.0</td>\n",
       "      <td>White</td>\n",
       "      <td>100</td>\n",
       "      <td>Home</td>\n",
       "      <td>3.0</td>\n",
       "      <td>2014-06-01</td>\n",
       "    </tr>\n",
       "    <tr>\n",
       "      <th>92396</th>\n",
       "      <td>Homicide</td>\n",
       "      <td>M</td>\n",
       "      <td>17.0</td>\n",
       "      <td>Black</td>\n",
       "      <td>100</td>\n",
       "      <td>Street</td>\n",
       "      <td>1.0</td>\n",
       "      <td>2014-08-01</td>\n",
       "    </tr>\n",
       "    <tr>\n",
       "      <th>35988</th>\n",
       "      <td>Suicide</td>\n",
       "      <td>M</td>\n",
       "      <td>43.0</td>\n",
       "      <td>Native American/Native Alaskan</td>\n",
       "      <td>100</td>\n",
       "      <td>Home</td>\n",
       "      <td>2.0</td>\n",
       "      <td>2013-12-01</td>\n",
       "    </tr>\n",
       "    <tr>\n",
       "      <th>30761</th>\n",
       "      <td>Homicide</td>\n",
       "      <td>M</td>\n",
       "      <td>28.0</td>\n",
       "      <td>White</td>\n",
       "      <td>100</td>\n",
       "      <td>Other specified</td>\n",
       "      <td>2.0</td>\n",
       "      <td>2012-11-01</td>\n",
       "    </tr>\n",
       "    <tr>\n",
       "      <th>5612</th>\n",
       "      <td>Homicide</td>\n",
       "      <td>M</td>\n",
       "      <td>31.0</td>\n",
       "      <td>White</td>\n",
       "      <td>100</td>\n",
       "      <td>Street</td>\n",
       "      <td>3.0</td>\n",
       "      <td>2012-03-01</td>\n",
       "    </tr>\n",
       "  </tbody>\n",
       "</table>\n",
       "</div>"
      ],
      "text/plain": [
       "         Intent Sex   Age                            Race  Hispanic  \\\n",
       "Index                                                                 \n",
       "94267   Suicide   M  28.0                           White       100   \n",
       "92396  Homicide   M  17.0                           Black       100   \n",
       "35988   Suicide   M  43.0  Native American/Native Alaskan       100   \n",
       "30761  Homicide   M  28.0                           White       100   \n",
       "5612   Homicide   M  31.0                           White       100   \n",
       "\n",
       "                 Place  Education       Date  \n",
       "Index                                         \n",
       "94267             Home        3.0 2014-06-01  \n",
       "92396           Street        1.0 2014-08-01  \n",
       "35988             Home        2.0 2013-12-01  \n",
       "30761  Other specified        2.0 2012-11-01  \n",
       "5612            Street        3.0 2012-03-01  "
      ]
     },
     "execution_count": 42,
     "metadata": {},
     "output_type": "execute_result"
    }
   ],
   "source": [
    "# a sample of about 10% of the data may look like this:\n",
    "sample_guns = guns.sample(n=10000)\n",
    "sample_guns.head()"
   ]
  },
  {
   "cell_type": "code",
   "execution_count": 43,
   "metadata": {
    "_cell_guid": "56f83ee2-11e0-9627-732e-38fc79b5c796",
    "_uuid": "91940299502acc283035bf0f3ac6f3be26931618"
   },
   "outputs": [
    {
     "data": {
      "text/plain": [
       "M    0.8606\n",
       "F    0.1394\n",
       "Name: Sex, dtype: float64"
      ]
     },
     "execution_count": 43,
     "metadata": {},
     "output_type": "execute_result"
    }
   ],
   "source": [
    "# we can look at the M/F distribution, in order to make sure it's similar to the original data\n",
    "sample_guns.Sex.value_counts(normalize=True)"
   ]
  },
  {
   "cell_type": "markdown",
   "metadata": {
    "_cell_guid": "75f08fc8-f6e0-2bb7-fee6-503213b7a5cc",
    "_uuid": "0a889ca3452f3225aee44bb0759e82b36ba89c22"
   },
   "source": [
    "**Question:** How do you define a categorical columns/pd.Series? E.g please order guns['intent'] by this order: 'Homicide','Suicide','Accidental','Undetermined'"
   ]
  },
  {
   "cell_type": "code",
   "execution_count": 44,
   "metadata": {
    "_cell_guid": "0f868733-b54f-3c6e-a35e-e175406474be",
    "_uuid": "94aa41e68467952926a37d4340f1e5599c195b03"
   },
   "outputs": [
    {
     "data": {
      "text/html": [
       "<div>\n",
       "<style>\n",
       "    .dataframe thead tr:only-child th {\n",
       "        text-align: right;\n",
       "    }\n",
       "\n",
       "    .dataframe thead th {\n",
       "        text-align: left;\n",
       "    }\n",
       "\n",
       "    .dataframe tbody tr th {\n",
       "        vertical-align: top;\n",
       "    }\n",
       "</style>\n",
       "<table border=\"1\" class=\"dataframe\">\n",
       "  <thead>\n",
       "    <tr style=\"text-align: right;\">\n",
       "      <th></th>\n",
       "      <th>Intent</th>\n",
       "      <th>Sex</th>\n",
       "      <th>Age</th>\n",
       "      <th>Race</th>\n",
       "      <th>Hispanic</th>\n",
       "      <th>Place</th>\n",
       "      <th>Education</th>\n",
       "      <th>Date</th>\n",
       "    </tr>\n",
       "    <tr>\n",
       "      <th>Index</th>\n",
       "      <th></th>\n",
       "      <th></th>\n",
       "      <th></th>\n",
       "      <th></th>\n",
       "      <th></th>\n",
       "      <th></th>\n",
       "      <th></th>\n",
       "      <th></th>\n",
       "    </tr>\n",
       "  </thead>\n",
       "  <tbody>\n",
       "    <tr>\n",
       "      <th>100797</th>\n",
       "      <td>Homicide</td>\n",
       "      <td>M</td>\n",
       "      <td>22.0</td>\n",
       "      <td>Hispanic</td>\n",
       "      <td>260</td>\n",
       "      <td>Street</td>\n",
       "      <td>1.0</td>\n",
       "      <td>2014-12-01</td>\n",
       "    </tr>\n",
       "    <tr>\n",
       "      <th>40144</th>\n",
       "      <td>Homicide</td>\n",
       "      <td>M</td>\n",
       "      <td>28.0</td>\n",
       "      <td>Hispanic</td>\n",
       "      <td>220</td>\n",
       "      <td>Home</td>\n",
       "      <td>2.0</td>\n",
       "      <td>2013-01-01</td>\n",
       "    </tr>\n",
       "    <tr>\n",
       "      <th>40147</th>\n",
       "      <td>Homicide</td>\n",
       "      <td>M</td>\n",
       "      <td>23.0</td>\n",
       "      <td>Black</td>\n",
       "      <td>100</td>\n",
       "      <td>Other unspecified</td>\n",
       "      <td>2.0</td>\n",
       "      <td>2013-01-01</td>\n",
       "    </tr>\n",
       "    <tr>\n",
       "      <th>40148</th>\n",
       "      <td>Homicide</td>\n",
       "      <td>F</td>\n",
       "      <td>24.0</td>\n",
       "      <td>Black</td>\n",
       "      <td>100</td>\n",
       "      <td>Home</td>\n",
       "      <td>3.0</td>\n",
       "      <td>2013-01-01</td>\n",
       "    </tr>\n",
       "    <tr>\n",
       "      <th>40150</th>\n",
       "      <td>Homicide</td>\n",
       "      <td>M</td>\n",
       "      <td>46.0</td>\n",
       "      <td>White</td>\n",
       "      <td>100</td>\n",
       "      <td>Home</td>\n",
       "      <td>2.0</td>\n",
       "      <td>2013-01-01</td>\n",
       "    </tr>\n",
       "  </tbody>\n",
       "</table>\n",
       "</div>"
      ],
      "text/plain": [
       "          Intent Sex   Age      Race  Hispanic              Place  Education  \\\n",
       "Index                                                                          \n",
       "100797  Homicide   M  22.0  Hispanic       260             Street        1.0   \n",
       "40144   Homicide   M  28.0  Hispanic       220               Home        2.0   \n",
       "40147   Homicide   M  23.0     Black       100  Other unspecified        2.0   \n",
       "40148   Homicide   F  24.0     Black       100               Home        3.0   \n",
       "40150   Homicide   M  46.0     White       100               Home        2.0   \n",
       "\n",
       "             Date  \n",
       "Index              \n",
       "100797 2014-12-01  \n",
       "40144  2013-01-01  \n",
       "40147  2013-01-01  \n",
       "40148  2013-01-01  \n",
       "40150  2013-01-01  "
      ]
     },
     "execution_count": 44,
     "metadata": {},
     "output_type": "execute_result"
    }
   ],
   "source": [
    "list_ordered = ['Homicide','Suicide','Accidental','Undetermined']\n",
    "guns['Intent'] = guns['Intent'].astype('category')\n",
    "guns.Intent.cat.set_categories(list_ordered, inplace=True)\n",
    "guns.sort_values(['Intent']).head()"
   ]
  },
  {
   "cell_type": "markdown",
   "metadata": {
    "_cell_guid": "2ee45bda-32a4-05cc-68b3-96500664d3af",
    "_uuid": "44c68739be3701ae64e44c5df07e2ea742fab39f"
   },
   "source": [
    "We can treat 'Undetermined' values in the 'intent' column as NaN and drop those rows, since these values do not give us any additional info and they are less than 1% of the rows (798/ about 100,000)."
   ]
  },
  {
   "cell_type": "code",
   "execution_count": 45,
   "metadata": {
    "_cell_guid": "07625dc1-ad18-8b11-02b5-29944729e1f8",
    "_uuid": "79bedb1735a674eaaf5b4455d20165117abd3591"
   },
   "outputs": [
    {
     "data": {
      "text/plain": [
       "Suicide         62295\n",
       "Homicide        33380\n",
       "Accidental       1619\n",
       "Undetermined      798\n",
       "Name: Intent, dtype: int64"
      ]
     },
     "execution_count": 45,
     "metadata": {},
     "output_type": "execute_result"
    }
   ],
   "source": [
    "guns.Intent.value_counts()"
   ]
  },
  {
   "cell_type": "markdown",
   "metadata": {
    "_cell_guid": "49435ade-a81d-bfea-a700-e83d9adcd504",
    "_uuid": "f7f095cd98bd5bc13c0aa7c125da8ed13c965a16"
   },
   "source": [
    "Let's take those lines also out of our df.\n",
    "Note: my assumption in dropping these values is that my prediction model would try to predict the 'intent' column, and 'Undetermined' cases have no value for that process. If you're predicting a different column - you may want to leave these values in the df."
   ]
  },
  {
   "cell_type": "code",
   "execution_count": 46,
   "metadata": {
    "_cell_guid": "875136af-19cc-25e7-41ee-e0627cef4693",
    "_uuid": "654e41a715cbc1984151d98c5b5cda6ed2f5e0fb"
   },
   "outputs": [
    {
     "data": {
      "text/plain": [
       "Suicide         62295\n",
       "Homicide        33380\n",
       "Accidental       1619\n",
       "Undetermined        0\n",
       "Name: Intent, dtype: int64"
      ]
     },
     "execution_count": 46,
     "metadata": {},
     "output_type": "execute_result"
    }
   ],
   "source": [
    "guns = guns[guns.Intent != 'Undetermined']\n",
    "guns.Intent.value_counts()"
   ]
  },
  {
   "cell_type": "markdown",
   "metadata": {
    "_cell_guid": "91732958-50ad-fdbf-d885-fd3d3e3261df",
    "_uuid": "29f3e5dc6ace6cdc98d13e96e9e7c06b7acd19d4"
   },
   "source": [
    "Note: Converting NaNs highly depends on context:\n",
    "It Might (rarely) contain information and hence it's own category\n",
    "Sometimes you want to take it out totally when either plottting or training in machine learning\n",
    "Other times, when machine learning with sparse data you might want to fill the values. That, of course depends on context\n",
    "Question: Why does 'Undetermined' still appears in the value_counts() with 0 count?\n",
    "Answer: We defined labels for the 'intent' column earlier. We need to remove 'Undetermined' from 'list_ordered' for the intent column. Otherwise pandas will keep listing it as if it is part of our DF with 0 counts."
   ]
  },
  {
   "cell_type": "code",
   "execution_count": 47,
   "metadata": {
    "_cell_guid": "b18f6b34-a517-27a1-beac-9c534cddaac1",
    "_uuid": "80e3fb718c40adcf63b0bbb748c1325fb682ff1b"
   },
   "outputs": [
    {
     "data": {
      "text/plain": [
       "Suicide       62295\n",
       "Homicide      33380\n",
       "Accidental     1619\n",
       "Name: Intent, dtype: int64"
      ]
     },
     "execution_count": 47,
     "metadata": {},
     "output_type": "execute_result"
    }
   ],
   "source": [
    "# removing last value in list ordered - which is 'Undetermined'\n",
    "list_ordered = list_ordered[:-1]\n",
    "guns.Intent.cat.set_categories(list_ordered, inplace=True)\n",
    "guns.Intent.value_counts()"
   ]
  },
  {
   "cell_type": "markdown",
   "metadata": {
    "_cell_guid": "a58bdecc-376d-68d1-1dc7-8e6a0385172a",
    "_uuid": "c094911e85f3842e6b32e3ebec961fcd4a492693"
   },
   "source": [
    "**Question:** Given a Series which contains strings, how do you find the length of each of the strings?"
   ]
  },
  {
   "cell_type": "code",
   "execution_count": 48,
   "metadata": {
    "_cell_guid": "6e57d5ce-ebc9-8cfe-e3d9-f447e7b89564",
    "_uuid": "6ffb19a76953279d98e8775229e3d1998d8d11e2"
   },
   "outputs": [
    {
     "data": {
      "text/plain": [
       "array([22,  5, 30,  8])"
      ]
     },
     "execution_count": 48,
     "metadata": {},
     "output_type": "execute_result"
    }
   ],
   "source": [
    "guns.Race.str.len().unique()"
   ]
  },
  {
   "cell_type": "code",
   "execution_count": 49,
   "metadata": {
    "_cell_guid": "d3c22971-6392-e2d0-c9f8-ba522ce60e15",
    "_uuid": "653cbc2045d467e9d3aa61590fb954c70ffb1510"
   },
   "outputs": [
    {
     "data": {
      "text/plain": [
       "array(['Asian/Pacific Islander', 'White', 'Native American/Native Alaskan',\n",
       "       'Black', 'Hispanic'], dtype=object)"
      ]
     },
     "execution_count": 49,
     "metadata": {},
     "output_type": "execute_result"
    }
   ],
   "source": [
    "guns.Race.unique()"
   ]
  },
  {
   "cell_type": "markdown",
   "metadata": {
    "_cell_guid": "6417fea0-0698-0f6b-2bfb-c1341f4a3fc1",
    "_uuid": "d4db9946a2d9c0031dc9f98ef5bc33636e44a469"
   },
   "source": [
    "**Question:** For the same series, how do you know if any given entry contains a string segment. E.g: Which entries int the 'intent' column contain the segment 'cide'?"
   ]
  },
  {
   "cell_type": "code",
   "execution_count": 50,
   "metadata": {
    "_cell_guid": "dbf5711b-be94-71b5-d50d-62652eddfcc6",
    "_uuid": "f84831911fa0022c878027f7e024615e4acbe101"
   },
   "outputs": [
    {
     "data": {
      "text/plain": [
       "97294"
      ]
     },
     "execution_count": 50,
     "metadata": {},
     "output_type": "execute_result"
    }
   ],
   "source": [
    "guns.Intent.str.contains('cide').sum()"
   ]
  },
  {
   "cell_type": "markdown",
   "metadata": {
    "_cell_guid": "f454d6e5-c508-4487-7c4e-7a355cee7458",
    "_uuid": "98b2685bd528162daa0aca1436cd2f21bb21b1aa"
   },
   "source": [
    "**Suggestion for further analysis:** Use census data to get the precentahge of each race name in the population in order to normalize the data."
   ]
  },
  {
   "cell_type": "markdown",
   "metadata": {
    "_cell_guid": "fb8f3e66-e4b4-9343-a351-c86c00f9d84e",
    "_uuid": "83303630751b181eaba60cb7e215b202af3298eb"
   },
   "source": [
    "## 3. Visualizing the data \n",
    "\n",
    "We can quickly find patterns in the visual information we encounter. However, our ability to quickly process symbolic values (like numbers and words) is very poor. Data visualization focuses on transforming data from table representations visual ones. By noticing visual patterns, we may have a good indication about correlations before moving to our prediction part of the analyzation.\n",
    "\n",
    "Let's import the pyplot library, some extra styles and show the plots inline the Jupyter notebook."
   ]
  },
  {
   "cell_type": "code",
   "execution_count": 51,
   "metadata": {
    "_cell_guid": "ef067338-542a-8517-2dde-163d44fade6c",
    "_uuid": "3aff48eaee1f1f9c1257528e24ea19b1e0992a49",
    "collapsed": true
   },
   "outputs": [],
   "source": [
    "import matplotlib.pyplot as plt\n",
    "import seaborn as sns\n",
    "sns.set(style='white', color_codes=True)\n",
    "%matplotlib inline"
   ]
  },
  {
   "cell_type": "markdown",
   "metadata": {
    "_cell_guid": "5e528343-0b84-6360-afed-a96f767f82c3",
    "_uuid": "0363b71b0a6a28742b4dfb83ef862b24bc2a99a1"
   },
   "source": [
    "### Line Charts / Time analysis\n",
    "\n",
    "**Line charts** work best when there is a logical connection between adjacent points. When dealing with dates, line charts are an appropriate choise for visualizing because the rows had a natural ordering to it. Each row reflected information about an event that occurred after the previous row (if the df is ordered by date).\n",
    "\n",
    "To emphasize how the visual representation of the line chart helps us observe trends easily, let's look at the same 36 data points from 2012 to the end of 2014 as a line chart.\n",
    "\n",
    "To create a line chart of the unemployment data from 2012, we need:\n",
    "- the x-axis to range from 2012-01-01 to 2014-12-01\n",
    "- the y-axis to range from 2357 to 3079 (which correspond to the minimum and maximum death incident values)\n",
    "We don't have to specify the values. we pass in the list of x-values as the first parameter and the list of y-values as the second parameter to plot().\n",
    "\n",
    "Let's begin with a yearly plot:"
   ]
  },
  {
   "cell_type": "code",
   "execution_count": 52,
   "metadata": {
    "_cell_guid": "67cd25b2-3109-64f6-fc61-7ba77ba4e629",
    "_uuid": "4e729bd0fdd0f7d2a2cb6db9611a525f2eff97f6"
   },
   "outputs": [
    {
     "data": {
      "image/png": "[encoded data removed]",
      "text/plain": [
       "<matplotlib.figure.Figure at 0x119ef36d8>"
      ]
     },
     "metadata": {},
     "output_type": "display_data"
    }
   ],
   "source": [
    "# 2012\n",
    "plt.plot(monthly_rates.index[:12], monthly_rates['Count'][:12], \n",
    "         linestyle='--', linewidth=3., alpha=0.6)\n",
    "plt.xticks(rotation=70)\n",
    "plt.tick_params(axis='both', which='both',length=0)\n",
    "plt.show()"
   ]
  },
  {
   "cell_type": "code",
   "execution_count": 53,
   "metadata": {
    "_cell_guid": "70e40d2d-137b-f758-3f9e-5347216a5f7a",
    "_uuid": "ed8f274bae82afe8d9b4671b1ae42dc3bcb242c0"
   },
   "outputs": [
    {
     "data": {
      "image/png": "[encoded data removed]",
      "text/plain": [
       "<matplotlib.figure.Figure at 0x11d274be0>"
      ]
     },
     "metadata": {},
     "output_type": "display_data"
    }
   ],
   "source": [
    "# notice the y column in the previous plot begins at 2200; \n",
    "# Let's look at the real picture from 0 \n",
    "plt.plot(monthly_rates.index[:12], monthly_rates['Count'][:12],\n",
    "        linestyle='--', linewidth=3., alpha=0.6)\n",
    "plt.xticks(rotation=70)\n",
    "plt.ylim(ymin=0, ymax=3500)\n",
    "plt.tick_params(axis='both', which='both',length=0)\n",
    "plt.xlabel('Month', fontsize=14)\n",
    "plt.ylabel('Gun Deaths\\ncount', fontsize=14)\n",
    "plt.title('Monthly Gun Death Count in the US, 2012', fontsize=14, fontweight='bold')\n",
    "sns.despine()\n",
    "plt.show()"
   ]
  },
  {
   "cell_type": "code",
   "execution_count": 54,
   "metadata": {
    "_cell_guid": "91b61e17-9d22-e4a9-2c51-8a4b05f4eb37",
    "_uuid": "3a606582290e71fdb38b55b2578e38805557102a"
   },
   "outputs": [
    {
     "data": {
      "image/png": "[encoded data removed]",
      "text/plain": [
       "<matplotlib.figure.Figure at 0x11d2cb898>"
      ]
     },
     "metadata": {},
     "output_type": "display_data"
    }
   ],
   "source": [
    "# year 2013:\n",
    "plt.plot(monthly_rates.index[12:24], monthly_rates['Count'][12:24],\n",
    "        linestyle='--', linewidth=3., alpha=0.6, color='r')\n",
    "plt.xticks(rotation=70)\n",
    "plt.ylim(ymin=0, ymax=3500)\n",
    "plt.tick_params(axis='both', which='both',length=0)\n",
    "plt.xlabel('Month', fontsize=14)\n",
    "plt.ylabel('Gun Death\\ncount', fontsize=14)\n",
    "plt.title('Monthly Gun Death Count in the US, 2013', fontsize=14, fontweight='bold')\n",
    "sns.despine()\n",
    "plt.show()"
   ]
  },
  {
   "cell_type": "code",
   "execution_count": 55,
   "metadata": {
    "_cell_guid": "65d7fd3c-df7d-1e51-b94c-4d73b2022feb",
    "_uuid": "36bd407b3a355b65dba3572d14eae5ef6f62cb43"
   },
   "outputs": [
    {
     "data": {
      "image/png": "[encoded data removed]",
      "text/plain": [
       "<matplotlib.figure.Figure at 0x11d7b2898>"
      ]
     },
     "metadata": {},
     "output_type": "display_data"
    }
   ],
   "source": [
    "# year 2014:\n",
    "plt.plot(monthly_rates.index[24:], monthly_rates['Count'][24:],\n",
    "        linestyle='--', linewidth=3., alpha=0.6, color='g')\n",
    "plt.xticks(rotation=70)\n",
    "plt.ylim(ymin=0, ymax=3500)\n",
    "plt.tick_params(axis='both', which='both',length=0)\n",
    "plt.xlabel('Month', fontsize=14)\n",
    "plt.ylabel('Gun Death\\nCount', fontsize=14)\n",
    "plt.title('Monthly Gun Death Count in the US, 2014', fontsize=14, fontweight='bold')\n",
    "sns.despine()\n",
    "plt.show()"
   ]
  },
  {
   "cell_type": "markdown",
   "metadata": {
    "_cell_guid": "7d0d49fe-7c80-5f6e-ccdb-870cc57ad18c",
    "_uuid": "c41efa72634372130e1160d540505c93c288abd6"
   },
   "source": [
    "Let's print them on the same plot in order to compare:"
   ]
  },
  {
   "cell_type": "code",
   "execution_count": 56,
   "metadata": {
    "_cell_guid": "a29824d8-93f4-ef76-d4bf-90c26cc2ed1c",
    "_uuid": "1c00ab6825675b639c0da6a011051a977f629e0b"
   },
   "outputs": [
    {
     "data": {
      "image/png": "[encoded data removed]",
      "text/plain": [
       "<matplotlib.figure.Figure at 0x11d364550>"
      ]
     },
     "metadata": {},
     "output_type": "display_data"
    }
   ],
   "source": [
    "# years 2012 - 2014\n",
    "# Changing linestyle to a constant line = seeing intersections more clearly\n",
    "fig = plt.figure()\n",
    "plt.plot(monthly_rates.index.month[0:12], monthly_rates['Count'][0:12], label='2012',\n",
    "        linestyle='-', linewidth=2., alpha=0.6)\n",
    "plt.plot(monthly_rates.index.month[12:24], monthly_rates['Count'][12:24], label='2013',\n",
    "        linestyle='-', linewidth=2., alpha=0.6, color='r')\n",
    "plt.plot(monthly_rates.index.month[24:36], monthly_rates['Count'][24:36], label='2014',\n",
    "        linestyle='-', linewidth=2., alpha=0.6, color='g')\n",
    "plt.xlim(xmin=1, xmax=12)\n",
    "plt.ylim(ymax=max(monthly_rates['Count'])+100)\n",
    "plt.tick_params(axis='both', which='both',length=0)\n",
    "plt.xticks(np.arange(1, 13, 1))\n",
    "plt.legend(loc='upper left', frameon=False)\n",
    "plt.xlabel('Month', fontsize=14)\n",
    "plt.ylabel('Gun Death\\nCount', fontsize=14)\n",
    "plt.title('Monthly Gun Death Count in the US: 2012-2014', fontsize=14, fontweight='bold')\n",
    "sns.despine()\n",
    "plt.show()"
   ]
  },
  {
   "cell_type": "markdown",
   "metadata": {
    "_cell_guid": "27c14a74-8c98-02b2-3f07-526c81524e0a",
    "_uuid": "3e72f6e5438004bd09ea9613ad2fe8d1e74e9542"
   },
   "source": [
    "But this is a distorted look on the data. It's important our axis starts from 0. Also, let's not repeat ourselves and enlarge the plot:"
   ]
  },
  {
   "cell_type": "code",
   "execution_count": 57,
   "metadata": {
    "_cell_guid": "85cfc84b-d69f-c886-4064-0944fecc09f5",
    "_uuid": "f24aa7b78c54751bfc3fd511624e1d3224bdb4e0"
   },
   "outputs": [
    {
     "data": {
      "image/png": "[encoded data removed]",
      "text/plain": [
       "<matplotlib.figure.Figure at 0x11d7f75c0>"
      ]
     },
     "metadata": {},
     "output_type": "display_data"
    }
   ],
   "source": [
    "fig = plt.figure(figsize=(10,6))\n",
    "\n",
    "colors = ['b', 'r', 'g']\n",
    "labels = ['2012', '2013', '2014']\n",
    "\n",
    "for i in range(len(labels)):\n",
    "    start_index = i*12\n",
    "    end_index = (i+1)*12\n",
    "    subset = monthly_rates[start_index:end_index]\n",
    "    plt.plot(subset.index.month, subset['Count'], color=colors[i], label=labels[i],\n",
    "            linestyle='-', linewidth=2., alpha=0.6)\n",
    "\n",
    "plt.xlim(xmin=1, xmax=12)\n",
    "plt.ylim(ymin=0, ymax=max(monthly_rates['Count'])+100)\n",
    "plt.tick_params(axis='both', which='both',length=0)\n",
    "plt.xticks(np.arange(1, 13, 1))\n",
    "plt.legend(loc='center right', frameon=False)\n",
    "plt.xlabel('Month', fontsize=14)\n",
    "plt.ylabel('Number of Gun Death Count', fontsize=14)\n",
    "plt.title('Monthly Gun Death Count in the US: 2012-2014', fontsize=14, fontweight='bold')\n",
    "sns.despine()\n",
    "plt.show()"
   ]
  },
  {
   "cell_type": "markdown",
   "metadata": {
    "_cell_guid": "8236e959-3b53-9232-4446-f07875e57baf",
    "_uuid": "1efb1b9b5d4eb8607bb14f70720a6d3e88a2558c"
   },
   "source": [
    "The trend of deaths does not seem to vary significantly over the years. There is a recurring phenomenon of very low number of incidents during february. July has the highest rate of gun deaths in 2012 and 2013, but it is not the case in 2014.\n",
    "\n",
    "### Bar Plots\n",
    "\n",
    "When we need visualization that scales graphical objects to the quantitative values we're interested in comparing - we can use a **bar plot**.\n",
    "\n",
    "Let's look at the 'intent' division with inner gender ['sex'] division."
   ]
  },
  {
   "cell_type": "code",
   "execution_count": 58,
   "metadata": {
    "_cell_guid": "8c108f1f-5f42-a9f6-c118-598a6905879b",
    "_uuid": "530ee24b9ef9fbd858bb8ecf61a1ed7db16a3c6d"
   },
   "outputs": [
    {
     "data": {
      "image/png": "[encoded data removed]",
      "text/plain": [
       "<matplotlib.figure.Figure at 0x11d8679b0>"
      ]
     },
     "metadata": {},
     "output_type": "display_data"
    }
   ],
   "source": [
    "intent_sex = guns.groupby(['Intent', 'Sex'])['Intent'].count().unstack('Sex')\n",
    "ax = intent_sex.plot(kind='bar', stacked=True, alpha=0.7)\n",
    "ax.set_xlabel('Intent', fontsize=14)\n",
    "ax.set_ylabel('Count', fontsize=14)\n",
    "plt.xticks(rotation=0)\n",
    "plt.tick_params(axis='both', which='both',length=0)\n",
    "ax.legend(labels=['Female', 'Male'], frameon=False, loc=0)\n",
    "plt.title('Gender distribution\\nGun Deaths US: 2012-2014', fontsize=14, fontweight='bold')\n",
    "sns.despine()\n",
    "plt.show()"
   ]
  },
  {
   "cell_type": "markdown",
   "metadata": {
    "_cell_guid": "d2db3e5e-3db0-198e-bfc5-b98497cab823",
    "_uuid": "9a75e931bd23600e17a3053df8d898867f92a13c"
   },
   "source": [
    "There are far more male incidents than female. From this visual we can infer that it will be hard to learn from 'Accidental' cases since there is so little of them.\n",
    "\n",
    "We can look at a similar split to get a sence of the education of the victims:"
   ]
  },
  {
   "cell_type": "code",
   "execution_count": 59,
   "metadata": {
    "_cell_guid": "d45dad47-9577-ce8f-9c37-2082beef3be5",
    "_uuid": "66a7d37ebb46fecd9985d09f1a3f84699425342a"
   },
   "outputs": [
    {
     "data": {
      "image/png": "[encoded data removed]",
      "text/plain": [
       "<matplotlib.figure.Figure at 0x11dab2a58>"
      ]
     },
     "metadata": {},
     "output_type": "display_data"
    }
   ],
   "source": [
    "intent_edu = guns.groupby(['Intent', 'Education'])['Intent'].count().unstack('Education')\n",
    "# creating a range of 5 colors - from light to dark\n",
    "edu_legend_labels = ['Less than\\nElementry school','Less than \\nHigh School', 'Graduated from\\nHigh School\\nor equivalent', \n",
    "                 'Some College', 'At least\\ngraduated\\nfrom College']\n",
    "colors = plt.cm.GnBu(np.linspace(0, 1, 5))\n",
    "ax = intent_edu.plot(kind='bar', stacked=True, color=colors, width=0.5, alpha=0.6)\n",
    "plt.xticks(rotation=0)\n",
    "ax.set_xlabel('Intent', fontsize=14)\n",
    "ax.set_ylabel('Count', fontsize=14)\n",
    "plt.tick_params(axis='both', which='both',length=0)\n",
    "ax.legend(edu_legend_labels, ncol=1, frameon=False, prop={'size':10}, loc=0)\n",
    "plt.ylim(ymin=0, ymax=90000)\n",
    "plt.title('Education distribution\\n in Gun Deaths US: 2012-2014', fontsize=14, fontweight='bold')\n",
    "sns.despine()\n",
    "plt.show()"
   ]
  },
  {
   "cell_type": "markdown",
   "metadata": {
    "_cell_guid": "72dfa1f5-7a42-f052-53ad-c2e61f0cf0f2",
    "_uuid": "413640bac3d98f57186140f7decc22709c3061b5"
   },
   "source": [
    "But this is too crowded, so let's make it horizontal and spread it out a bit:"
   ]
  },
  {
   "cell_type": "code",
   "execution_count": 60,
   "metadata": {
    "_cell_guid": "23548637-988f-e7b3-5e84-8e67271e0a89",
    "_uuid": "6051670316822d8829aa6d505e864ca67ea80dab"
   },
   "outputs": [
    {
     "data": {
      "image/png": "[encoded data removed]",
      "text/plain": [
       "<matplotlib.figure.Figure at 0x11d2cb940>"
      ]
     },
     "metadata": {},
     "output_type": "display_data"
    }
   ],
   "source": [
    "intent_edu = guns.groupby(['Intent', 'Education'])['Intent'].count().unstack('Education')\n",
    "ax = intent_edu.plot(kind='barh', figsize=(15,6), stacked=True, color=colors, alpha=0.6)\n",
    "ax.set_xlabel('Count', fontsize=20)\n",
    "ax.set_ylabel('Intent', fontsize=20)\n",
    "ax.legend(edu_legend_labels, loc=0,  prop={'size':12}, frameon=False)\n",
    "plt.xlim(xmin=0, xmax=80000)\n",
    "plt.tick_params(axis='both', which='both',length=0)\n",
    "plt.title('Education distribution\\nin Gun Deaths US: 2012-2014', fontsize=20, fontweight='bold')\n",
    "sns.despine()\n",
    "plt.show()"
   ]
  },
  {
   "cell_type": "code",
   "execution_count": 61,
   "metadata": {
    "_cell_guid": "16ee7bc1-ad76-4b68-4e21-591a9a4f0bea",
    "_uuid": "f7fd61369f2fc106f9e133129fbaedc91cebe5e5"
   },
   "outputs": [
    {
     "data": {
      "image/png": "[encoded data removed]",
      "text/plain": [
       "<matplotlib.figure.Figure at 0x11ddb68d0>"
      ]
     },
     "metadata": {},
     "output_type": "display_data"
    }
   ],
   "source": [
    "1# the percentage visual is more informative\n",
    "education = pd.crosstab(guns.Education, guns.Intent)\n",
    "education.div(education.sum(1).astype(float), axis=0).plot(kind='bar', stacked=True, alpha=0.6)\n",
    "plt.title('Intent Percentage by Education')\n",
    "plt.xlabel('Education level')\n",
    "plt.ylabel('Percentage')\n",
    "plt.legend(loc='upper center', bbox_to_anchor=(1.1,0.9))\n",
    "sns.despine()"
   ]
  },
  {
   "cell_type": "markdown",
   "metadata": {
    "_cell_guid": "3a01746c-5dcb-5fe2-2778-5c176469c374",
    "_uuid": "abf57196b7332c85e52ebd8734c168066e30b99a"
   },
   "source": [
    "Using this split visualization we can see that there is a larger percentage of people with some college education and higher in the suicide gun deaths than in the Homicide incidents. The dark blues are more than a third of the Suicide cases, but only about a quarter of the Homicide cases. This is indication that **'education' could be a helpful variable for our 'intent' prediction.**\n",
    "\n",
    "Again, the Accidental bar does not seem to give us any additional info. It may be useless for our prediction, and we're better off going with binary: 'Suicide' vs. 'Homicide'.\n",
    "\n",
    "Moving on to distribution of location:"
   ]
  },
  {
   "cell_type": "code",
   "execution_count": 62,
   "metadata": {
    "_cell_guid": "567708a4-65f1-5847-9e8f-6607817f3d26",
    "_uuid": "41dc5841c2bb10504152be5afe3f766616f1590c"
   },
   "outputs": [
    {
     "data": {
      "image/png": "[encoded data removed]",
      "text/plain": [
       "<matplotlib.figure.Figure at 0x11d2cbcf8>"
      ]
     },
     "metadata": {},
     "output_type": "display_data"
    }
   ],
   "source": [
    "intent_place = guns.groupby(['Intent', 'Place'])['Intent'].count().unstack('Place')\n",
    "\n",
    "colors = plt.cm.GnBu(np.linspace(0, 2, 20))\n",
    "ax = intent_place.plot(kind='barh', stacked=True, color=colors, alpha=0.8)\n",
    "ax.set_xlabel('Count', fontsize=14)\n",
    "ax.set_ylabel('Intent', fontsize=14)\n",
    "plt.tick_params(axis='both', which='both', length=0)\n",
    "ax.legend(loc=0, ncol=2, prop={'size':10}, frameon=False)\n",
    "plt.title('Location distribution\\nin Gun Deaths US: 2012-2014', fontsize=14, fontweight='bold')\n",
    "sns.despine()\n",
    "plt.show()"
   ]
  },
  {
   "cell_type": "markdown",
   "metadata": {
    "_cell_guid": "051bf4a5-ff65-cdf0-cda3-a8234ec6b8ba",
    "_uuid": "c3f20aa10b0ca39e5a0f64b130b6ea9f43bd8c37"
   },
   "source": [
    "We can see that most cases of Suicide happen at home. This means that **location could be an important variable when we want to predict intent**. The Accidental column, again, seems too dense to give us any valuble info. \n",
    "\n",
    "It's almost impossible to conclude things about this visualization since there are a lot of values (i.e colors), and this distribution isn't that useful for us. Let's make it better by merging some of the values. "
   ]
  },
  {
   "cell_type": "code",
   "execution_count": 63,
   "metadata": {
    "_cell_guid": "32066d7a-a420-a012-6b55-81b1224a5245",
    "_uuid": "3b322b5f1a1dab6346d364d09d87a171a8cf6e2a"
   },
   "outputs": [
    {
     "data": {
      "text/plain": [
       "Home                       59146\n",
       "Other specified            13472\n",
       "Street                     10989\n",
       "Other unspecified           8625\n",
       "Trade/service area          3374\n",
       "School/instiution            659\n",
       "Farm                         465\n",
       "Industrial/construction      238\n",
       "Residential institution      201\n",
       "Sports                       125\n",
       "Name: Place, dtype: int64"
      ]
     },
     "execution_count": 63,
     "metadata": {},
     "output_type": "execute_result"
    }
   ],
   "source": [
    "guns.Place.value_counts()"
   ]
  },
  {
   "cell_type": "markdown",
   "metadata": {
    "_cell_guid": "649b33d4-e915-440c-bde0-152860a4b4ed",
    "_uuid": "69c0359c4cf0e2cee1f6bc1a994d908e7046656b"
   },
   "source": [
    "I'm not sure if the values 'other specified' and 'other unspecified' give us any info. We may want to drop this column all together, or chose: Home, Street and other as our 3 values for this."
   ]
  },
  {
   "cell_type": "code",
   "execution_count": 64,
   "metadata": {
    "_cell_guid": "35da7819-4e81-b374-ce18-21e5cfb9b4cd",
    "_uuid": "4c1e0d5152f2b47ddd314b80c3afda9427d4b5d7"
   },
   "outputs": [
    {
     "data": {
      "text/plain": [
       "Home      59146\n",
       "Other     23547\n",
       "Street    14601\n",
       "Name: Place, dtype: int64"
      ]
     },
     "execution_count": 64,
     "metadata": {},
     "output_type": "execute_result"
    }
   ],
   "source": [
    "#These are too many categories and it's hard to arrive to conclusions\n",
    "# let's merge 'street' with 'trade/service area' and the rest to 'Other'\n",
    "index_temp = guns[(guns['Place'] == 'Trade/service area') | (guns.Place == 'Industrial/construction')].index\n",
    "guns.loc[index_temp, 'Place'] = 'Street'\n",
    "index_temp = guns[(guns['Place'] != 'Street') & (guns.Place != 'Home')].index\n",
    "guns.loc[index_temp, 'Place'] = 'Other'\n",
    "\n",
    "guns.Place.value_counts()"
   ]
  },
  {
   "cell_type": "code",
   "execution_count": 65,
   "metadata": {
    "_cell_guid": "d8d122b8-14a4-dc58-9eb4-a1f7fddadc8d",
    "_uuid": "149215ddc97d118a8ec719ebfcdca6d021ce1502"
   },
   "outputs": [
    {
     "data": {
      "image/png": "[encoded data removed]",
      "text/plain": [
       "<matplotlib.figure.Figure at 0x11d7c7438>"
      ]
     },
     "metadata": {},
     "output_type": "display_data"
    }
   ],
   "source": [
    "# Let's take another look:\n",
    "intent_place = guns.groupby(['Intent', 'Place'])['Intent'].count().unstack('Place')\n",
    "colors = plt.cm.GnBu(np.linspace(0,2,6))\n",
    "ax = intent_place.plot(kind='barh', stacked=True, color=colors, alpha=0.6)\n",
    "ax.set_xlabel('Count', fontsize=14)\n",
    "ax.set_ylabel('Intent', fontsize=14)\n",
    "plt.tick_params(axis='both', which='both',length=0)\n",
    "ax.legend(loc='upper right', prop={'size':10}, frameon=False)\n",
    "plt.title('Location distribution\\nin Gun Deaths US: 2012-2014', fontsize=14, fontweight='bold')\n",
    "sns.despine()\n",
    "plt.show()"
   ]
  },
  {
   "cell_type": "code",
   "execution_count": 66,
   "metadata": {
    "_cell_guid": "a32c1758-5fc4-6994-297f-7cde91793633",
    "_uuid": "8a17d89d841f5a7724cd920599d01d59473c89db"
   },
   "outputs": [
    {
     "data": {
      "image/png": "[encoded data removed]",
      "text/plain": [
       "<matplotlib.figure.Figure at 0x11d7c7128>"
      ]
     },
     "metadata": {},
     "output_type": "display_data"
    }
   ],
   "source": [
    "# the percentage visual is more informative\n",
    "place_died = pd.crosstab(guns.Place, guns.Intent)\n",
    "place_died.div(place_died.sum(1).astype(float), axis=0).plot(kind='bar', stacked=True, alpha=0.6)\n",
    "plt.title('Intent Percentage by Place')\n",
    "plt.xlabel('Place of death')\n",
    "plt.ylabel('Percentage')\n",
    "plt.legend(loc='upper center', bbox_to_anchor=(1.1,0.9))\n",
    "sns.despine()"
   ]
  },
  {
   "cell_type": "markdown",
   "metadata": {
    "_cell_guid": "c69d7c3c-9d90-61dc-9793-fd05ddd8ce99",
    "_uuid": "de59722fbe35c2bfe082751bfc29af3a2829ef9b"
   },
   "source": [
    "This is far less dense and better for understanding our data. It is not surprising that the minoroty of suicide cases were located in the street, and the majority - at home. Homicide seems to be split 3 ways pretty evenly."
   ]
  },
  {
   "cell_type": "code",
   "execution_count": 67,
   "metadata": {
    "_cell_guid": "69a20eea-85cb-99cb-ac17-167078460ad6",
    "_uuid": "5ac42d174356deb8d8bdbde9ae1ed41b0086ba87"
   },
   "outputs": [
    {
     "data": {
      "image/png": "[encoded data removed]",
      "text/plain": [
       "<matplotlib.figure.Figure at 0x119ee3e10>"
      ]
     },
     "metadata": {},
     "output_type": "display_data"
    }
   ],
   "source": [
    "# barplot of gender grouped by intent \n",
    "pd.crosstab(guns.Sex, guns.Intent).plot(kind='bar', alpha=0.6)\n",
    "plt.title('Gender Distribution by Intent')\n",
    "plt.xlabel('Gender')\n",
    "plt.ylabel('Frequency')\n",
    "plt.legend(loc=0)\n",
    "sns.despine()\n"
   ]
  },
  {
   "cell_type": "code",
   "execution_count": 68,
   "metadata": {
    "_cell_guid": "b6da2335-470f-cb80-74ff-68779517712c",
    "_uuid": "b75e227ee8026e6aa3cf17c9d6d19746cd5e5247"
   },
   "outputs": [
    {
     "data": {
      "image/png": "[encoded data removed]",
      "text/plain": [
       "<matplotlib.figure.Figure at 0x11dd84940>"
      ]
     },
     "metadata": {},
     "output_type": "display_data"
    }
   ],
   "source": [
    "# barplot of education grouped by intent \n",
    "pd.crosstab(guns.Education, guns.Intent).plot(kind='bar', alpha=0.6)\n",
    "plt.title('Education Distribution by Intent')\n",
    "plt.xlabel('Education')\n",
    "plt.ylabel('Frequency')\n",
    "sns.despine()"
   ]
  },
  {
   "cell_type": "markdown",
   "metadata": {
    "_cell_guid": "d21ab7d4-9c17-eabe-5f66-5f7262e2be1c",
    "_uuid": "90ef1d2d7ae49a71a4e568bfecc630ff06a6c703"
   },
   "source": [
    "Let's use a stacked barplot to look at the percentage intent by place of death."
   ]
  },
  {
   "cell_type": "markdown",
   "metadata": {
    "_cell_guid": "e92f7568-f80e-c8ad-520b-6daf279273db",
    "_uuid": "7a07f2c9544ec280d5780e97d8a580dfc0447781"
   },
   "source": [
    "## Histograms\n",
    "\n",
    "We use value counts and **sort_index()** in order to organize the age values according to frequency. "
   ]
  },
  {
   "cell_type": "code",
   "execution_count": 69,
   "metadata": {
    "_cell_guid": "c7512040-6af7-7965-624c-90ea089e7bf7",
    "_uuid": "6a96cf65237a3886e58f53be40120f36c57ddfa0"
   },
   "outputs": [
    {
     "data": {
      "image/png": "[encoded data removed]",
      "text/plain": [
       "<matplotlib.figure.Figure at 0x11d7f7908>"
      ]
     },
     "metadata": {},
     "output_type": "display_data"
    }
   ],
   "source": [
    "age_freq = guns.Age.value_counts()\n",
    "sorted_age_freq = age_freq.sort_index()\n",
    "sorted_age_freq.head()\n",
    "plt.hist(guns['Age'], range=(0,107), alpha=0.4)\n",
    "plt.tick_params(axis='both', which='both',length=0)\n",
    "plt.xlim(xmin=0, xmax=110)\n",
    "plt.xlabel('Age', fontsize=14)\n",
    "plt.ylabel('Count', fontsize=14)\n",
    "plt.title('Age distribution', fontsize=14, fontweight='bold')\n",
    "sns.despine(bottom=True, left=True)\n",
    "plt.show()"
   ]
  },
  {
   "cell_type": "markdown",
   "metadata": {
    "_cell_guid": "593687a5-969e-be81-68c3-de957c33dcf2",
    "_uuid": "536de7f9f631c2fdebf9e5234ea92a3673d1aeb0"
   },
   "source": [
    "Let's look at the age histogram for the suicide deaths vs. the homicide deaths, and check if there are any evident differences."
   ]
  },
  {
   "cell_type": "code",
   "execution_count": 70,
   "metadata": {
    "_cell_guid": "24cbd6a8-dde5-50e5-83bf-2b2eb640284d",
    "_uuid": "212063fe11f25450afff10ff5bd83e1b497e77a1"
   },
   "outputs": [
    {
     "data": {
      "image/png": "[encoded data removed]",
      "text/plain": [
       "<matplotlib.figure.Figure at 0x11e227470>"
      ]
     },
     "metadata": {},
     "output_type": "display_data"
    }
   ],
   "source": [
    "fig = plt.figure(figsize=(12,4))\n",
    "ax1 = fig.add_subplot(1,2,1)\n",
    "ax2 = fig.add_subplot(1,2,2)\n",
    "\n",
    "suicide = guns[guns['Intent'] == 'Suicide']\n",
    "homicide = guns[guns['Intent'] == 'Homicide']\n",
    "\n",
    "ax1.hist(suicide.Age, 20, alpha=0.4)\n",
    "ax1.set_title('Suicide gun deaths\\nAge Distribution', fontsize=14, fontweight='bold')\n",
    "ax2.hist(homicide.Age, 20, alpha=0.4)\n",
    "ax2.set_title('Homicide gun deaths\\nAge Distribution', fontsize=14, fontweight='bold')\n",
    "ax1.set_xlabel('Age', fontsize=14)\n",
    "ax2.set_xlabel('Age', fontsize=14)\n",
    "ax1.set_ylabel('Frequency', fontsize=14)\n",
    "ax2.set_ylabel('Frequency', fontsize=14)\n",
    "ax1.tick_params(axis='both', which='both',length=0)\n",
    "ax2.tick_params(axis='both', which='both',length=0)\n",
    "ax1.set_xlim(xmin=0, xmax=110)\n",
    "ax2.set_xlim(xmin=0, xmax=110)\n",
    "sns.despine(bottom=True, left=True)\n",
    "plt.show()"
   ]
  },
  {
   "cell_type": "markdown",
   "metadata": {
    "_cell_guid": "6faa2e26-9173-e4f0-d8e1-737e38de1565",
    "_uuid": "a2b897066a71b2e289bd0ef9e9ea83b8c4742b50"
   },
   "source": [
    "By looking at this we can see that most of the Homicide deaths occured around the age of 20-21, while most suicide cases are circled just under the age of 55-58 (there is also a noticable peak around the age of 20). If we wanted more accurate numbers - we could take a look at the mean and median of these variables. Again, since we have so little incidents of accidental gun deaths, it's hard to infer anything from that part of the data [red dots]."
   ]
  },
  {
   "cell_type": "code",
   "execution_count": 71,
   "metadata": {
    "_cell_guid": "1e78ace1-6300-f09e-9581-eb955f1da097",
    "_uuid": "9f5e2e85f0a72cbc3f26a87d4cfa908b30db80ea"
   },
   "outputs": [
    {
     "data": {
      "text/plain": [
       "<matplotlib.text.Text at 0x11d7f7710>"
      ]
     },
     "execution_count": 71,
     "metadata": {},
     "output_type": "execute_result"
    },
    {
     "data": {
      "image/png": "[encoded data removed]",
      "text/plain": [
       "<matplotlib.figure.Figure at 0x11dd67b38>"
      ]
     },
     "metadata": {},
     "output_type": "display_data"
    },
    {
     "data": {
      "image/png": "[encoded data removed]",
      "text/plain": [
       "<matplotlib.figure.Figure at 0x11ded7240>"
      ]
     },
     "metadata": {},
     "output_type": "display_data"
    }
   ],
   "source": [
    "g = sns.FacetGrid(suicide, col='Sex')  \n",
    "g.map(sns.distplot, 'Age')\n",
    "plt.subplots_adjust(top=0.8)\n",
    "g.set(xlim=(0, 110), ylim=(0, 0.05))\n",
    "g.fig.suptitle('Suicide ages: Gender comparison', fontsize=14, fontweight='bold')\n",
    "g = sns.FacetGrid(homicide, col='Sex') \n",
    "g.map(sns.distplot, 'Age')\n",
    "plt.subplots_adjust(top=0.8)\n",
    "g.set(xlim=(0, 110), ylim=(0, 0.05), xlabel='Age', ylabel='Percentage', )\n",
    "g.fig.suptitle('Homicide ages: Gender comparison', fontsize=14, fontweight='bold')"
   ]
  },
  {
   "cell_type": "code",
   "execution_count": 72,
   "metadata": {
    "_cell_guid": "5c317fac-8aa3-e32a-0b36-8f18897d869e",
    "_uuid": "92b98c67ae3c428ed2b6e87f7242a24a9622714b"
   },
   "outputs": [
    {
     "data": {
      "text/plain": [
       "<matplotlib.text.Text at 0x11df435c0>"
      ]
     },
     "execution_count": 72,
     "metadata": {},
     "output_type": "execute_result"
    },
    {
     "data": {
      "image/png": "[encoded data removed]",
      "text/plain": [
       "<matplotlib.figure.Figure at 0x11f1db588>"
      ]
     },
     "metadata": {},
     "output_type": "display_data"
    },
    {
     "data": {
      "image/png": "[encoded data removed]",
      "text/plain": [
       "<matplotlib.figure.Figure at 0x11f1dbc50>"
      ]
     },
     "metadata": {},
     "output_type": "display_data"
    }
   ],
   "source": [
    "g = sns.FacetGrid(suicide, col='Race')  \n",
    "g.map(sns.distplot, 'Age')\n",
    "g.set(xlim=(0, None))\n",
    "plt.subplots_adjust(top=0.8)\n",
    "g.set(xlim=(0, 110), ylim=(0, 0.06), xlabel='Age')\n",
    "g.fig.suptitle('Suicide ages: Race comparison', fontsize=14, fontweight='bold')\n",
    "g = sns.FacetGrid(homicide, col='Race') \n",
    "g.map(sns.distplot, 'Age')\n",
    "g.set(xlim=(0, None))\n",
    "plt.subplots_adjust(top=0.8)\n",
    "g.set(xlim=(0, 110), ylim=(0, 0.06), xlabel='Age')\n",
    "g.fig.suptitle('Homicide ages: Race comparison', fontsize=14, fontweight='bold')"
   ]
  },
  {
   "cell_type": "code",
   "execution_count": 73,
   "metadata": {
    "_cell_guid": "df57a46d-beff-8cc8-58f0-5e0aa26b358a",
    "_uuid": "867e7c8aa90a0d3fbf20e33eb4d7669479ea0093"
   },
   "outputs": [
    {
     "data": {
      "text/plain": [
       "<matplotlib.text.Text at 0x11499b518>"
      ]
     },
     "execution_count": 73,
     "metadata": {},
     "output_type": "execute_result"
    },
    {
     "data": {
      "image/png": "[encoded data removed]",
      "text/plain": [
       "<matplotlib.figure.Figure at 0x11eab84a8>"
      ]
     },
     "metadata": {},
     "output_type": "display_data"
    },
    {
     "data": {
      "image/png": "[encoded data removed]",
      "text/plain": [
       "<matplotlib.figure.Figure at 0x11e57a4a8>"
      ]
     },
     "metadata": {},
     "output_type": "display_data"
    }
   ],
   "source": [
    "# in order to get in in the same order for better comparison:\n",
    "race_ordered = ['Black', 'White', 'Hispanic', 'Asian/Pacific Islander', 'Native American/Native Alaskan']\n",
    "guns['Race'] = guns['Race'].astype('category')\n",
    "guns.Race.cat.set_categories(race_ordered, inplace=True)\n",
    "\n",
    "suicide = guns[guns['Intent'] == 'Suicide']\n",
    "homicide = guns[guns['Intent'] == 'Homicide']\n",
    "\n",
    "g = sns.FacetGrid(suicide, col='Race')  \n",
    "g.map(sns.distplot, 'Age')\n",
    "plt.subplots_adjust(top=0.8)\n",
    "g.set(xlim=(0, 110), ylim=(0, 0.06), xlabel='Age')\n",
    "g.fig.suptitle('Suicide ages: Race comparison', fontsize=16, fontweight='bold')\n",
    "g = sns.FacetGrid(homicide, col='Race') \n",
    "g.map(sns.distplot, 'Age')\n",
    "plt.subplots_adjust(top=0.8)\n",
    "g.set(xlim=(0, 110), ylim=(0, 0.06), xlabel='Age')\n",
    "g.fig.suptitle('Homicide ages: Race comparison', fontsize=16, fontweight='bold')"
   ]
  },
  {
   "cell_type": "markdown",
   "metadata": {
    "_cell_guid": "81b779cb-f55d-3b24-fa63-93e62a398b02",
    "_uuid": "8a83f18a6e628a067533d086dd2e768cb9de171d"
   },
   "source": [
    "It's very apperant that the peak in most races in both suicide incidents is around age 20, while the peak in the race 'white' is much higher - around 55 in suicide cases. There is a difference in the homicide cases of this race as well."
   ]
  },
  {
   "cell_type": "code",
   "execution_count": 74,
   "metadata": {
    "_cell_guid": "b1f3d01a-068e-9730-fbbd-2220130ab986",
    "_uuid": "a20b8714af36ede71e09e77fedcf092aebc0b96c"
   },
   "outputs": [
    {
     "data": {
      "text/plain": [
       "<matplotlib.text.Text at 0x12090d160>"
      ]
     },
     "execution_count": 74,
     "metadata": {},
     "output_type": "execute_result"
    },
    {
     "data": {
      "image/png": "[encoded data removed]",
      "text/plain": [
       "<matplotlib.figure.Figure at 0x11f5e00f0>"
      ]
     },
     "metadata": {},
     "output_type": "display_data"
    },
    {
     "data": {
      "image/png": "[encoded data removed]",
      "text/plain": [
       "<matplotlib.figure.Figure at 0x11fee7a20>"
      ]
     },
     "metadata": {},
     "output_type": "display_data"
    }
   ],
   "source": [
    "# we can ignore education = 0 - since these are all very young ages\n",
    "g = sns.FacetGrid(suicide[suicide.Education > 0], col='Education')\n",
    "g.map(sns.distplot, 'Age')\n",
    "plt.subplots_adjust(top=0.8)\n",
    "g.set(xlim=(0, 110), ylim=(0, 0.06), xlabel='Age')\n",
    "g.fig.suptitle('Suicide ages: Education comparison', fontsize=16, fontweight='bold')\n",
    "g = sns.FacetGrid(homicide[homicide.Education > 0], col='Education') \n",
    "g.map(sns.distplot, 'Age')\n",
    "plt.subplots_adjust(top=0.8)\n",
    "g.set(xlim=(0, 110), ylim=(0, 0.06), xlabel='Age')\n",
    "g.fig.suptitle('Homicide ages: Education comparison', fontsize=16, fontweight='bold')"
   ]
  },
  {
   "cell_type": "code",
   "execution_count": 75,
   "metadata": {},
   "outputs": [
    {
     "data": {
      "text/plain": [
       "2.0    26321\n",
       "3.0    15532\n",
       "4.0    11147\n",
       "1.0     9295\n",
       "Name: Education, dtype: int64"
      ]
     },
     "execution_count": 75,
     "metadata": {},
     "output_type": "execute_result"
    }
   ],
   "source": [
    "suicide.Education.value_counts()"
   ]
  },
  {
   "cell_type": "markdown",
   "metadata": {
    "_cell_guid": "d55a9491-def7-a6b2-d2cf-75ac547190b8",
    "_uuid": "f41eb2d1801f80db5fcd0df621d4e692da9237ba"
   },
   "source": [
    "The peaks show an interesting picture: All of the homicides plot peaks are in the area of 20 years old, and this is similar for suicides in cases where the education was low. However, when the victim was of college university [3.0-4.0] the peak is also around age 60.\n",
    "This may mean that age can also help us predict intent.\n",
    "\n",
    "## KDE Plot\n",
    "\n",
    "This plot is useful for looking at univariate relations. It creates and visualizes a kernel density estimate of the underlying feature.\n",
    "\n",
    "Let's look at the age values:\n",
    "\n",
    "This view will make it look like there are negative ages in our dataset, but that is not the case. The reason for that is that KDE smoothes the lines and thus manipulates the truth. We can limit the x axis."
   ]
  },
  {
   "cell_type": "code",
   "execution_count": 76,
   "metadata": {
    "_cell_guid": "8706437e-6e4d-5d15-773a-ff3e473e89ad",
    "_uuid": "3e4b0ea4b1491cec613ebd4b0b0089a0df2d82fa"
   },
   "outputs": [
    {
     "data": {
      "text/plain": [
       "<matplotlib.text.Text at 0x120544550>"
      ]
     },
     "execution_count": 76,
     "metadata": {},
     "output_type": "execute_result"
    },
    {
     "data": {
      "image/png": "[encoded data removed]",
      "text/plain": [
       "<matplotlib.figure.Figure at 0x11decd358>"
      ]
     },
     "metadata": {},
     "output_type": "display_data"
    }
   ],
   "source": [
    "# limit the x-axis\n",
    "sns.FacetGrid(guns, hue='Intent', size=4).map(sns.kdeplot, 'Age')\n",
    "plt.legend(loc=9, frameon=False)\n",
    "plt.xlim(xmin=0)\n",
    "plt.xlabel('Age', fontsize=14)\n",
    "plt.ylabel('Density', fontsize=14)\n",
    "sns.despine(left=True)\n",
    "plt.title('Age distribution\\nHomicide vs. Suicide', fontsize=14, fontweight='bold')"
   ]
  },
  {
   "cell_type": "markdown",
   "metadata": {
    "_cell_guid": "35539a95-9fce-54db-5683-7427fdf8502b",
    "_uuid": "bfebe1704138e300ba0b145e00d8eb00148f79da"
   },
   "source": [
    "This is very similar to the plot we saw before, only seeing it on the same grid makes it easier to see differences."
   ]
  },
  {
   "cell_type": "code",
   "execution_count": 77,
   "metadata": {
    "_cell_guid": "43c39760-cc8d-d0d3-d82f-60c40dad89a9",
    "_uuid": "848212edc77386ed620dc6dfbf6a146683f2401b"
   },
   "outputs": [
    {
     "data": {
      "text/plain": [
       "<matplotlib.text.Text at 0x11efecfd0>"
      ]
     },
     "execution_count": 77,
     "metadata": {},
     "output_type": "execute_result"
    },
    {
     "data": {
      "image/png": "[encoded data removed]",
      "text/plain": [
       "<matplotlib.figure.Figure at 0x11e4c17b8>"
      ]
     },
     "metadata": {},
     "output_type": "display_data"
    }
   ],
   "source": [
    "sns.FacetGrid(guns, hue='Sex', size=4).map(sns.kdeplot, 'Age').add_legend()\n",
    "sns.despine(left=True)\n",
    "plt.xlim(xmin=0)\n",
    "plt.title('Age distribution\\nMale vs. Female', fontsize=14, fontweight='bold')"
   ]
  },
  {
   "cell_type": "markdown",
   "metadata": {
    "_cell_guid": "5d7511f8-e6ec-8ae1-5bc3-6ff118cc3913",
    "_uuid": "2c88e588f02763dc7781b61ba535859235e313e2"
   },
   "source": [
    "This is also very useful in seeing differences between the genders. Let's make different KDE plots for each intent:"
   ]
  },
  {
   "cell_type": "code",
   "execution_count": 78,
   "metadata": {
    "_cell_guid": "a7842889-496c-4453-83c4-943f309e0185",
    "_uuid": "e6696af2f19e4d22db84466bf589591d87bdfcbc"
   },
   "outputs": [
    {
     "data": {
      "text/plain": [
       "<matplotlib.text.Text at 0x11feb27f0>"
      ]
     },
     "execution_count": 78,
     "metadata": {},
     "output_type": "execute_result"
    },
    {
     "data": {
      "image/png": "[encoded data removed]",
      "text/plain": [
       "<matplotlib.figure.Figure at 0x11df43c88>"
      ]
     },
     "metadata": {},
     "output_type": "display_data"
    },
    {
     "data": {
      "image/png": "[encoded data removed]",
      "text/plain": [
       "<matplotlib.figure.Figure at 0x11f408ef0>"
      ]
     },
     "metadata": {},
     "output_type": "display_data"
    }
   ],
   "source": [
    "sns.FacetGrid(suicide, hue='Sex', size=4).map(sns.kdeplot, 'Age').add_legend()\n",
    "plt.xlabel('Age', fontsize=14)\n",
    "sns.despine(left=True)\n",
    "plt.title('Suicide ages: Gender comparison', fontsize=14, fontweight='bold')\n",
    "sns.FacetGrid(homicide, hue='Sex', size=4).map(sns.kdeplot, 'Age').add_legend()\n",
    "plt.xlabel('Age', fontsize=14)\n",
    "sns.despine(left=True)\n",
    "plt.xlim(xmin=0)\n",
    "plt.title('Homicide ages: Gender comparison', fontsize=14, fontweight='bold')"
   ]
  },
  {
   "cell_type": "markdown",
   "metadata": {
    "_cell_guid": "257536df-dd9f-ccd3-df37-669e525f45f9",
    "_uuid": "15938f6db7707a4c78534b360de3c0f26cc616a3"
   },
   "source": [
    "# Box Plots\n",
    "A box plot consists of box-and-whisker diagrams, which represents the different quartiles in a visual way. It is useful to show differences between different groups in our data."
   ]
  },
  {
   "cell_type": "code",
   "execution_count": 79,
   "metadata": {
    "_cell_guid": "f43e1198-42c7-f3c2-e050-504462e4f105",
    "_uuid": "bc234fa84114aba770a87aa98a72666ded98f666"
   },
   "outputs": [
    {
     "data": {
      "image/png": "[encoded data removed]",
      "text/plain": [
       "<matplotlib.figure.Figure at 0x11df80e10>"
      ]
     },
     "metadata": {},
     "output_type": "display_data"
    }
   ],
   "source": [
    "fig, ax = plt.subplots()\n",
    "data_to_plot = [suicide.Age, homicide.Age]\n",
    "plt.xlim(xmin=0, xmax=110)\n",
    "plt.boxplot(data_to_plot)\n",
    "plt.ylim(ymin=-1, ymax=110)\n",
    "plt.xticks([1, 2, 3], ['Suicide', 'Homicide'], fontsize=14)\n",
    "plt.tick_params(axis='both', which='both',length=0)\n",
    "plt.ylabel('Age', fontsize=14)\n",
    "plt.title('Ages in Suicide vs. Homicide',\n",
    "          fontsize=14, fontweight='bold')\n",
    "sns.despine(bottom=True)\n",
    "plt.show()"
   ]
  },
  {
   "cell_type": "markdown",
   "metadata": {
    "_cell_guid": "8df122a1-d882-6691-f65c-8165bc466bc6",
    "_uuid": "e33006676082f21bf155d721921906e7afc621b8"
   },
   "source": [
    "Another useful tool is the ability to split column by their value. Here we are doing a gender comparison of age in each 'intent' value:"
   ]
  },
  {
   "cell_type": "code",
   "execution_count": 80,
   "metadata": {
    "_cell_guid": "b821825e-9108-70b0-6457-b1ee04c5f95c",
    "_uuid": "84de546266535fc0f56e0bcf36c9379658e73965"
   },
   "outputs": [
    {
     "data": {
      "image/png": "[encoded data removed]",
      "text/plain": [
       "<matplotlib.figure.Figure at 0x11ee6f7b8>"
      ]
     },
     "metadata": {},
     "output_type": "display_data"
    }
   ],
   "source": [
    "#sns.set(style='ticks')\n",
    "sns.boxplot(x='Intent', y='Age', hue='Sex', data=guns, palette='PRGn', width=0.6)\n",
    "sns.despine(bottom=True)"
   ]
  },
  {
   "cell_type": "markdown",
   "metadata": {
    "_cell_guid": "0141c968-f1d5-093e-2846-a656912a3cc6",
    "_uuid": "029e5530ef6abb66ba8564528eed09291a898b48"
   },
   "source": [
    "Again we see that Accidental does not give us any additional info.\n",
    "We see the ages in suicides among women varies more than men. However, there is a smaller variation in the ages of females that are murderd in homicide cases.\n",
    "\n",
    "## Violin plots"
   ]
  },
  {
   "cell_type": "code",
   "execution_count": 81,
   "metadata": {
    "_cell_guid": "3532632c-c891-7756-42ed-ec6e714930ba",
    "_uuid": "4ef02b2730747c54368be030b5a0e2d639acb453"
   },
   "outputs": [
    {
     "data": {
      "image/png": "[encoded data removed]",
      "text/plain": [
       "<matplotlib.figure.Figure at 0x11ef7bf60>"
      ]
     },
     "metadata": {},
     "output_type": "display_data"
    }
   ],
   "source": [
    "sns.violinplot(x='Intent', y='Age', hue='Sex', split=True, data=guns, size=4, inner='quart')\n",
    "sns.despine(bottom=True)"
   ]
  },
  {
   "cell_type": "markdown",
   "metadata": {
    "_cell_guid": "20a4023d-6b9d-2d7f-8552-f7f7238e8a5e",
    "_uuid": "8d45b10496cd52610a6d5699f34b432f718d5d64"
   },
   "source": [
    "This visualization of the variance in each gender help us to better understand the numbers: Again, the accidental column does not give us much info since the distribution and quartiles are very similar between genders. However, we see the distribution between male and female in homicide differs in quartiles and in the range of the quarters. This may mean that combining age and gender can be a helpful predictor.\n",
    "\n",
    "**Note:** Since most of our variables are categorical, **scatter plots** would not give us much information (believe me, I tried). The same applies to **scatter matrix plot**.\n",
    "\n",
    "## Main Takeaways\n",
    "- Age, education, place and age~gender may be helpful in predicting intent.\n",
    "- Place variable should be used carefuly since some of the values were combined.\n",
    "- There is a large number of gun deaths during July and June, and a smaller number on February.\n",
    "- To do: Prediction!\n",
    "\n",
    "Would love to get your feedback!"
   ]
  },
  {
   "cell_type": "code",
   "execution_count": null,
   "metadata": {
    "_uuid": "df6c9cb8f6c81abc5bf2ec234180d7e1586cfef1",
    "collapsed": true
   },
   "outputs": [],
   "source": []
  },
  {
   "cell_type": "code",
   "execution_count": null,
   "metadata": {
    "_uuid": "053f926a4022cbd706935864871caf99e4943b59",
    "collapsed": true
   },
   "outputs": [],
   "source": []
  },
  {
   "cell_type": "code",
   "execution_count": null,
   "metadata": {
    "_uuid": "a9a2240f0ed63605f7294abf7ceae7421944a8f4",
    "collapsed": true
   },
   "outputs": [],
   "source": []
  }
 ],
 "metadata": {
  "_change_revision": 0,
  "_is_fork": false,
  "kernelspec": {
   "display_name": "Python 3",
   "language": "python",
   "name": "python3"
  },
  "language_info": {
   "codemirror_mode": {
    "name": "ipython",
    "version": 3
   },
   "file_extension": ".py",
   "mimetype": "text/x-python",
   "name": "python",
   "nbconvert_exporter": "python",
   "pygments_lexer": "ipython3",
   "version": "3.6.2"
  }
 },
 "nbformat": 4,
 "nbformat_minor": 1
}
